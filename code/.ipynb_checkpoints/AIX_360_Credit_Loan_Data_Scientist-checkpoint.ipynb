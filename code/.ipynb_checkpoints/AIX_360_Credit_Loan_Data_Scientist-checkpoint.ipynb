{
 "cells": [
  {
   "cell_type": "markdown",
   "metadata": {
    "id": "Bkdh-mcbC2QG"
   },
   "source": [
    "# **Install AIX 360 through pip**"
   ]
  },
  {
   "cell_type": "code",
   "execution_count": 1,
   "metadata": {
    "collapsed": true,
    "id": "iw0vuXD0fI2X",
    "jupyter": {
     "outputs_hidden": true
    },
    "tags": []
   },
   "outputs": [
    {
     "name": "stdout",
     "output_type": "stream",
     "text": [
      "Requirement already satisfied: aix360 in c:\\users\\jimco\\anaconda3\\lib\\site-packages (0.1.0)\n",
      "Requirement already satisfied: numpy in c:\\users\\jimco\\anaconda3\\lib\\site-packages (from aix360) (1.20.1)\n",
      "Requirement already satisfied: scikit-image in c:\\users\\jimco\\anaconda3\\lib\\site-packages (from aix360) (0.18.1)\n",
      "Requirement already satisfied: joblib>=0.11 in c:\\users\\jimco\\anaconda3\\lib\\site-packages (from aix360) (1.0.1)\n",
      "Requirement already satisfied: pandas in c:\\users\\jimco\\anaconda3\\lib\\site-packages (from aix360) (1.3.5)\n",
      "Requirement already satisfied: keras in c:\\users\\jimco\\anaconda3\\lib\\site-packages (from aix360) (2.7.0)\n",
      "Requirement already satisfied: torchvision in c:\\users\\jimco\\anaconda3\\lib\\site-packages (from aix360) (0.11.2)\n",
      "Requirement already satisfied: Image in c:\\users\\jimco\\anaconda3\\lib\\site-packages (from aix360) (1.5.33)\n",
      "Requirement already satisfied: scikit-learn>=0.21.2 in c:\\users\\jimco\\anaconda3\\lib\\site-packages (from aix360) (0.24.1)\n",
      "Requirement already satisfied: requests in c:\\users\\jimco\\anaconda3\\lib\\site-packages (from aix360) (2.25.1)\n",
      "Requirement already satisfied: xport in c:\\users\\jimco\\anaconda3\\lib\\site-packages (from aix360) (3.5.0)\n",
      "Requirement already satisfied: tensorflow in c:\\users\\jimco\\anaconda3\\lib\\site-packages (from aix360) (2.7.0)\n",
      "Requirement already satisfied: torch in c:\\users\\jimco\\anaconda3\\lib\\site-packages (from aix360) (1.10.1)\n",
      "Requirement already satisfied: matplotlib in c:\\users\\jimco\\anaconda3\\lib\\site-packages (from aix360) (3.3.4)\n",
      "Requirement already satisfied: cvxopt in c:\\users\\jimco\\anaconda3\\lib\\site-packages (from aix360) (1.2.7)\n",
      "Requirement already satisfied: scipy>=0.17 in c:\\users\\jimco\\anaconda3\\lib\\site-packages (from aix360) (1.6.2)\n",
      "Requirement already satisfied: cvxpy in c:\\users\\jimco\\anaconda3\\lib\\site-packages (from aix360) (1.1.18)\n",
      "Requirement already satisfied: threadpoolctl>=2.0.0 in c:\\users\\jimco\\anaconda3\\lib\\site-packages (from scikit-learn>=0.21.2->aix360) (2.1.0)\n",
      "Requirement already satisfied: ecos>=2 in c:\\users\\jimco\\anaconda3\\lib\\site-packages (from cvxpy->aix360) (2.0.10)\n",
      "Requirement already satisfied: osqp>=0.4.1 in c:\\users\\jimco\\anaconda3\\lib\\site-packages (from cvxpy->aix360) (0.6.2.post5)\n",
      "Requirement already satisfied: scs>=1.1.6 in c:\\users\\jimco\\anaconda3\\lib\\site-packages (from cvxpy->aix360) (3.0.1)\n",
      "Requirement already satisfied: qdldl in c:\\users\\jimco\\anaconda3\\lib\\site-packages (from osqp>=0.4.1->cvxpy->aix360) (0.1.5.post0)\n",
      "Requirement already satisfied: six in c:\\users\\jimco\\anaconda3\\lib\\site-packages (from Image->aix360) (1.15.0)\n",
      "Requirement already satisfied: pillow in c:\\users\\jimco\\anaconda3\\lib\\site-packages (from Image->aix360) (8.2.0)\n",
      "Requirement already satisfied: django in c:\\users\\jimco\\anaconda3\\lib\\site-packages (from Image->aix360) (4.0.1)\n",
      "Requirement already satisfied: backports.zoneinfo in c:\\users\\jimco\\anaconda3\\lib\\site-packages (from django->Image->aix360) (0.2.1)\n",
      "Requirement already satisfied: asgiref<4,>=3.4.1 in c:\\users\\jimco\\anaconda3\\lib\\site-packages (from django->Image->aix360) (3.4.1)\n",
      "Requirement already satisfied: sqlparse>=0.2.2 in c:\\users\\jimco\\anaconda3\\lib\\site-packages (from django->Image->aix360) (0.4.2)\n",
      "Requirement already satisfied: tzdata in c:\\users\\jimco\\anaconda3\\lib\\site-packages (from django->Image->aix360) (2021.5)\n",
      "Requirement already satisfied: cycler>=0.10 in c:\\users\\jimco\\anaconda3\\lib\\site-packages (from matplotlib->aix360) (0.10.0)\n",
      "Requirement already satisfied: python-dateutil>=2.1 in c:\\users\\jimco\\anaconda3\\lib\\site-packages (from matplotlib->aix360) (2.8.1)\n",
      "Requirement already satisfied: kiwisolver>=1.0.1 in c:\\users\\jimco\\anaconda3\\lib\\site-packages (from matplotlib->aix360) (1.3.1)\n",
      "Requirement already satisfied: pyparsing!=2.0.4,!=2.1.2,!=2.1.6,>=2.0.3 in c:\\users\\jimco\\anaconda3\\lib\\site-packages (from matplotlib->aix360) (2.4.7)\n",
      "Requirement already satisfied: pytz>=2017.3 in c:\\users\\jimco\\anaconda3\\lib\\site-packages (from pandas->aix360) (2021.1)\n",
      "Requirement already satisfied: idna<3,>=2.5 in c:\\users\\jimco\\anaconda3\\lib\\site-packages (from requests->aix360) (2.10)\n",
      "Requirement already satisfied: chardet<5,>=3.0.2 in c:\\users\\jimco\\anaconda3\\lib\\site-packages (from requests->aix360) (4.0.0)\n",
      "Requirement already satisfied: certifi>=2017.4.17 in c:\\users\\jimco\\anaconda3\\lib\\site-packages (from requests->aix360) (2020.12.5)\n",
      "Requirement already satisfied: urllib3<1.27,>=1.21.1 in c:\\users\\jimco\\anaconda3\\lib\\site-packages (from requests->aix360) (1.26.4)\n",
      "Requirement already satisfied: networkx>=2.0 in c:\\users\\jimco\\anaconda3\\lib\\site-packages (from scikit-image->aix360) (2.5)\n",
      "Requirement already satisfied: imageio>=2.3.0 in c:\\users\\jimco\\anaconda3\\lib\\site-packages (from scikit-image->aix360) (2.9.0)\n",
      "Requirement already satisfied: tifffile>=2019.7.26 in c:\\users\\jimco\\anaconda3\\lib\\site-packages (from scikit-image->aix360) (2021.4.8)\n",
      "Requirement already satisfied: PyWavelets>=1.1.1 in c:\\users\\jimco\\anaconda3\\lib\\site-packages (from scikit-image->aix360) (1.1.1)\n",
      "Requirement already satisfied: decorator>=4.3.0 in c:\\users\\jimco\\anaconda3\\lib\\site-packages (from networkx>=2.0->scikit-image->aix360) (5.0.6)\n",
      "Requirement already satisfied: flatbuffers<3.0,>=1.12 in c:\\users\\jimco\\anaconda3\\lib\\site-packages (from tensorflow->aix360) (2.0)\n",
      "Requirement already satisfied: protobuf>=3.9.2 in c:\\users\\jimco\\anaconda3\\lib\\site-packages (from tensorflow->aix360) (3.19.3)\n",
      "Requirement already satisfied: opt-einsum>=2.3.2 in c:\\users\\jimco\\anaconda3\\lib\\site-packages (from tensorflow->aix360) (3.3.0)\n",
      "Requirement already satisfied: termcolor>=1.1.0 in c:\\users\\jimco\\anaconda3\\lib\\site-packages (from tensorflow->aix360) (1.1.0)\n",
      "Requirement already satisfied: tensorflow-estimator<2.8,~=2.7.0rc0 in c:\\users\\jimco\\anaconda3\\lib\\site-packages (from tensorflow->aix360) (2.7.0)\n",
      "Requirement already satisfied: grpcio<2.0,>=1.24.3 in c:\\users\\jimco\\anaconda3\\lib\\site-packages (from tensorflow->aix360) (1.43.0)\n",
      "Requirement already satisfied: wheel<1.0,>=0.32.0 in c:\\users\\jimco\\anaconda3\\lib\\site-packages (from tensorflow->aix360) (0.36.2)\n",
      "Requirement already satisfied: libclang>=9.0.1 in c:\\users\\jimco\\anaconda3\\lib\\site-packages (from tensorflow->aix360) (12.0.0)\n",
      "Requirement already satisfied: tensorflow-io-gcs-filesystem>=0.21.0 in c:\\users\\jimco\\anaconda3\\lib\\site-packages (from tensorflow->aix360) (0.23.1)\n",
      "Requirement already satisfied: h5py>=2.9.0 in c:\\users\\jimco\\anaconda3\\lib\\site-packages (from tensorflow->aix360) (2.10.0)\n",
      "Requirement already satisfied: typing-extensions>=3.6.6 in c:\\users\\jimco\\anaconda3\\lib\\site-packages (from tensorflow->aix360) (3.7.4.3)\n",
      "Requirement already satisfied: keras-preprocessing>=1.1.1 in c:\\users\\jimco\\anaconda3\\lib\\site-packages (from tensorflow->aix360) (1.1.2)\n",
      "Requirement already satisfied: astunparse>=1.6.0 in c:\\users\\jimco\\anaconda3\\lib\\site-packages (from tensorflow->aix360) (1.6.3)\n",
      "Requirement already satisfied: gast<0.5.0,>=0.2.1 in c:\\users\\jimco\\anaconda3\\lib\\site-packages (from tensorflow->aix360) (0.4.0)\n",
      "Requirement already satisfied: wrapt>=1.11.0 in c:\\users\\jimco\\anaconda3\\lib\\site-packages (from tensorflow->aix360) (1.12.1)\n",
      "Requirement already satisfied: tensorboard~=2.6 in c:\\users\\jimco\\anaconda3\\lib\\site-packages (from tensorflow->aix360) (2.7.0)\n",
      "Requirement already satisfied: absl-py>=0.4.0 in c:\\users\\jimco\\anaconda3\\lib\\site-packages (from tensorflow->aix360) (1.0.0)\n",
      "Requirement already satisfied: google-pasta>=0.1.1 in c:\\users\\jimco\\anaconda3\\lib\\site-packages (from tensorflow->aix360) (0.2.0)\n",
      "Requirement already satisfied: tensorboard-data-server<0.7.0,>=0.6.0 in c:\\users\\jimco\\anaconda3\\lib\\site-packages (from tensorboard~=2.6->tensorflow->aix360) (0.6.1)\n",
      "Requirement already satisfied: markdown>=2.6.8 in c:\\users\\jimco\\anaconda3\\lib\\site-packages (from tensorboard~=2.6->tensorflow->aix360) (3.3.6)\n",
      "Requirement already satisfied: google-auth<3,>=1.6.3 in c:\\users\\jimco\\anaconda3\\lib\\site-packages (from tensorboard~=2.6->tensorflow->aix360) (2.3.3)\n",
      "Requirement already satisfied: tensorboard-plugin-wit>=1.6.0 in c:\\users\\jimco\\anaconda3\\lib\\site-packages (from tensorboard~=2.6->tensorflow->aix360) (1.8.1)\n",
      "Requirement already satisfied: google-auth-oauthlib<0.5,>=0.4.1 in c:\\users\\jimco\\anaconda3\\lib\\site-packages (from tensorboard~=2.6->tensorflow->aix360) (0.4.6)\n",
      "Requirement already satisfied: werkzeug>=0.11.15 in c:\\users\\jimco\\anaconda3\\lib\\site-packages (from tensorboard~=2.6->tensorflow->aix360) (1.0.1)\n",
      "Requirement already satisfied: setuptools>=41.0.0 in c:\\users\\jimco\\anaconda3\\lib\\site-packages (from tensorboard~=2.6->tensorflow->aix360) (52.0.0.post20210125)\n",
      "Requirement already satisfied: cachetools<5.0,>=2.0.0 in c:\\users\\jimco\\anaconda3\\lib\\site-packages (from google-auth<3,>=1.6.3->tensorboard~=2.6->tensorflow->aix360) (4.2.4)\n",
      "Requirement already satisfied: pyasn1-modules>=0.2.1 in c:\\users\\jimco\\anaconda3\\lib\\site-packages (from google-auth<3,>=1.6.3->tensorboard~=2.6->tensorflow->aix360) (0.2.8)\n",
      "Requirement already satisfied: rsa<5,>=3.1.4 in c:\\users\\jimco\\anaconda3\\lib\\site-packages (from google-auth<3,>=1.6.3->tensorboard~=2.6->tensorflow->aix360) (4.8)\n",
      "Requirement already satisfied: requests-oauthlib>=0.7.0 in c:\\users\\jimco\\anaconda3\\lib\\site-packages (from google-auth-oauthlib<0.5,>=0.4.1->tensorboard~=2.6->tensorflow->aix360) (1.3.0)\n",
      "Requirement already satisfied: importlib-metadata>=4.4 in c:\\users\\jimco\\anaconda3\\lib\\site-packages (from markdown>=2.6.8->tensorboard~=2.6->tensorflow->aix360) (4.10.0)\n",
      "Requirement already satisfied: zipp>=0.5 in c:\\users\\jimco\\anaconda3\\lib\\site-packages (from importlib-metadata>=4.4->markdown>=2.6.8->tensorboard~=2.6->tensorflow->aix360) (3.4.1)\n",
      "Requirement already satisfied: pyasn1<0.5.0,>=0.4.6 in c:\\users\\jimco\\anaconda3\\lib\\site-packages (from pyasn1-modules>=0.2.1->google-auth<3,>=1.6.3->tensorboard~=2.6->tensorflow->aix360) (0.4.8)\n",
      "Requirement already satisfied: oauthlib>=3.0.0 in c:\\users\\jimco\\anaconda3\\lib\\site-packages (from requests-oauthlib>=0.7.0->google-auth-oauthlib<0.5,>=0.4.1->tensorboard~=2.6->tensorflow->aix360) (3.1.1)\n",
      "Requirement already satisfied: click>=7.1.1 in c:\\users\\jimco\\anaconda3\\lib\\site-packages (from xport->aix360) (7.1.2)\n",
      "Requirement already satisfied: pyyaml in c:\\users\\jimco\\anaconda3\\lib\\site-packages (from xport->aix360) (5.4.1)\n"
     ]
    }
   ],
   "source": [
    "!pip install aix360"
   ]
  },
  {
   "cell_type": "code",
   "execution_count": null,
   "metadata": {
    "id": "zuHxOjDjgvM3"
   },
   "outputs": [],
   "source": [
    "##Download the dataset by filling the google form here, an email will be sent to your\n",
    "##registered email-id. Upload it to colab notebook and move those dataset in the given location\n",
    "# ! mv /content/heloc_dataset_v1.csv /usr/local/lib/python3.6/dist-packages/aix360/data/heloc_data/heloc_dataset.csv"
   ]
  },
  {
   "cell_type": "code",
   "execution_count": 11,
   "metadata": {
    "colab": {
     "base_uri": "https://localhost:8080/",
     "height": 865
    },
    "id": "K8H28LcnJwrh",
    "outputId": "21b5ba6d-1dec-49c9-ee32-f1557f4bc254"
   },
   "outputs": [],
   "source": [
    "import numpy as np\n",
    "import pandas as pd\n",
    "from pandas import read_csv\n",
    "from numpy import set_printoptions\n",
    "#data_dictionary = pd.read_excel(\"/content/heloc_data_dictionary-2.xlsx\")\n",
    "#data_dictionary"
   ]
  },
  {
   "cell_type": "markdown",
   "metadata": {
    "id": "w66Xve_zYe6h"
   },
   "source": [
    "# **Load the dataset**\n",
    "Read in the data, treating -8 (No Usable/Valid Trade or Inquiry) and -9 (No Record) as missing:"
   ]
  },
  {
   "cell_type": "code",
   "execution_count": 13,
   "metadata": {},
   "outputs": [
    {
     "data": {
      "text/plain": [
       "(10459, 24)"
      ]
     },
     "execution_count": 13,
     "metadata": {},
     "output_type": "execute_result"
    }
   ],
   "source": [
    "df = pd.read_csv(\"../data/heloc_dataset_v1.csv\")\n",
    "\n",
    "#Count missing values for each column of the dataframe df\n",
    "df.isnull().sum()"
   ]
  },
  {
   "cell_type": "code",
   "execution_count": 20,
   "metadata": {},
   "outputs": [
    {
     "data": {
      "text/html": [
       "<div>\n",
       "<style scoped>\n",
       "    .dataframe tbody tr th:only-of-type {\n",
       "        vertical-align: middle;\n",
       "    }\n",
       "\n",
       "    .dataframe tbody tr th {\n",
       "        vertical-align: top;\n",
       "    }\n",
       "\n",
       "    .dataframe thead th {\n",
       "        text-align: right;\n",
       "    }\n",
       "</style>\n",
       "<table border=\"1\" class=\"dataframe\">\n",
       "  <thead>\n",
       "    <tr style=\"text-align: right;\">\n",
       "      <th></th>\n",
       "      <th>ExternalRiskEstimate</th>\n",
       "      <th>MSinceOldestTradeOpen</th>\n",
       "      <th>MSinceMostRecentTradeOpen</th>\n",
       "      <th>AverageMInFile</th>\n",
       "      <th>NumSatisfactoryTrades</th>\n",
       "      <th>NumTrades60Ever2DerogPubRec</th>\n",
       "      <th>NumTrades90Ever2DerogPubRec</th>\n",
       "      <th>PercentTradesNeverDelq</th>\n",
       "      <th>MSinceMostRecentDelq</th>\n",
       "      <th>MaxDelq2PublicRecLast12M</th>\n",
       "      <th>...</th>\n",
       "      <th>PercentInstallTrades</th>\n",
       "      <th>MSinceMostRecentInqexcl7days</th>\n",
       "      <th>NumInqLast6M</th>\n",
       "      <th>NumInqLast6Mexcl7days</th>\n",
       "      <th>NetFractionRevolvingBurden</th>\n",
       "      <th>NetFractionInstallBurden</th>\n",
       "      <th>NumRevolvingTradesWBalance</th>\n",
       "      <th>NumInstallTradesWBalance</th>\n",
       "      <th>NumBank2NatlTradesWHighUtilization</th>\n",
       "      <th>PercentTradesWBalance</th>\n",
       "    </tr>\n",
       "  </thead>\n",
       "  <tbody>\n",
       "    <tr>\n",
       "      <th>0</th>\n",
       "      <td>55.0</td>\n",
       "      <td>144.0</td>\n",
       "      <td>4.0</td>\n",
       "      <td>84.0</td>\n",
       "      <td>20.0</td>\n",
       "      <td>3.0</td>\n",
       "      <td>0.0</td>\n",
       "      <td>83.0</td>\n",
       "      <td>2.0</td>\n",
       "      <td>3.0</td>\n",
       "      <td>...</td>\n",
       "      <td>43.0</td>\n",
       "      <td>0.0</td>\n",
       "      <td>0.0</td>\n",
       "      <td>0.0</td>\n",
       "      <td>33.0</td>\n",
       "      <td>NaN</td>\n",
       "      <td>8.0</td>\n",
       "      <td>1.0</td>\n",
       "      <td>1.0</td>\n",
       "      <td>69.0</td>\n",
       "    </tr>\n",
       "    <tr>\n",
       "      <th>1</th>\n",
       "      <td>61.0</td>\n",
       "      <td>58.0</td>\n",
       "      <td>15.0</td>\n",
       "      <td>41.0</td>\n",
       "      <td>2.0</td>\n",
       "      <td>4.0</td>\n",
       "      <td>4.0</td>\n",
       "      <td>100.0</td>\n",
       "      <td>NaN</td>\n",
       "      <td>0.0</td>\n",
       "      <td>...</td>\n",
       "      <td>67.0</td>\n",
       "      <td>0.0</td>\n",
       "      <td>0.0</td>\n",
       "      <td>0.0</td>\n",
       "      <td>0.0</td>\n",
       "      <td>NaN</td>\n",
       "      <td>0.0</td>\n",
       "      <td>NaN</td>\n",
       "      <td>NaN</td>\n",
       "      <td>0.0</td>\n",
       "    </tr>\n",
       "    <tr>\n",
       "      <th>2</th>\n",
       "      <td>67.0</td>\n",
       "      <td>66.0</td>\n",
       "      <td>5.0</td>\n",
       "      <td>24.0</td>\n",
       "      <td>9.0</td>\n",
       "      <td>0.0</td>\n",
       "      <td>0.0</td>\n",
       "      <td>100.0</td>\n",
       "      <td>NaN</td>\n",
       "      <td>7.0</td>\n",
       "      <td>...</td>\n",
       "      <td>44.0</td>\n",
       "      <td>0.0</td>\n",
       "      <td>4.0</td>\n",
       "      <td>4.0</td>\n",
       "      <td>53.0</td>\n",
       "      <td>66.0</td>\n",
       "      <td>4.0</td>\n",
       "      <td>2.0</td>\n",
       "      <td>1.0</td>\n",
       "      <td>86.0</td>\n",
       "    </tr>\n",
       "    <tr>\n",
       "      <th>3</th>\n",
       "      <td>66.0</td>\n",
       "      <td>169.0</td>\n",
       "      <td>1.0</td>\n",
       "      <td>73.0</td>\n",
       "      <td>28.0</td>\n",
       "      <td>1.0</td>\n",
       "      <td>1.0</td>\n",
       "      <td>93.0</td>\n",
       "      <td>76.0</td>\n",
       "      <td>6.0</td>\n",
       "      <td>...</td>\n",
       "      <td>57.0</td>\n",
       "      <td>0.0</td>\n",
       "      <td>5.0</td>\n",
       "      <td>4.0</td>\n",
       "      <td>72.0</td>\n",
       "      <td>83.0</td>\n",
       "      <td>6.0</td>\n",
       "      <td>4.0</td>\n",
       "      <td>3.0</td>\n",
       "      <td>91.0</td>\n",
       "    </tr>\n",
       "    <tr>\n",
       "      <th>4</th>\n",
       "      <td>81.0</td>\n",
       "      <td>333.0</td>\n",
       "      <td>27.0</td>\n",
       "      <td>132.0</td>\n",
       "      <td>12.0</td>\n",
       "      <td>0.0</td>\n",
       "      <td>0.0</td>\n",
       "      <td>100.0</td>\n",
       "      <td>NaN</td>\n",
       "      <td>7.0</td>\n",
       "      <td>...</td>\n",
       "      <td>25.0</td>\n",
       "      <td>0.0</td>\n",
       "      <td>1.0</td>\n",
       "      <td>1.0</td>\n",
       "      <td>51.0</td>\n",
       "      <td>89.0</td>\n",
       "      <td>3.0</td>\n",
       "      <td>1.0</td>\n",
       "      <td>0.0</td>\n",
       "      <td>80.0</td>\n",
       "    </tr>\n",
       "  </tbody>\n",
       "</table>\n",
       "<p>5 rows × 23 columns</p>\n",
       "</div>"
      ],
      "text/plain": [
       "   ExternalRiskEstimate  MSinceOldestTradeOpen  MSinceMostRecentTradeOpen  \\\n",
       "0                  55.0                  144.0                        4.0   \n",
       "1                  61.0                   58.0                       15.0   \n",
       "2                  67.0                   66.0                        5.0   \n",
       "3                  66.0                  169.0                        1.0   \n",
       "4                  81.0                  333.0                       27.0   \n",
       "\n",
       "   AverageMInFile  NumSatisfactoryTrades  NumTrades60Ever2DerogPubRec  \\\n",
       "0            84.0                   20.0                          3.0   \n",
       "1            41.0                    2.0                          4.0   \n",
       "2            24.0                    9.0                          0.0   \n",
       "3            73.0                   28.0                          1.0   \n",
       "4           132.0                   12.0                          0.0   \n",
       "\n",
       "   NumTrades90Ever2DerogPubRec  PercentTradesNeverDelq  MSinceMostRecentDelq  \\\n",
       "0                          0.0                    83.0                   2.0   \n",
       "1                          4.0                   100.0                   NaN   \n",
       "2                          0.0                   100.0                   NaN   \n",
       "3                          1.0                    93.0                  76.0   \n",
       "4                          0.0                   100.0                   NaN   \n",
       "\n",
       "   MaxDelq2PublicRecLast12M  ...  PercentInstallTrades  \\\n",
       "0                       3.0  ...                  43.0   \n",
       "1                       0.0  ...                  67.0   \n",
       "2                       7.0  ...                  44.0   \n",
       "3                       6.0  ...                  57.0   \n",
       "4                       7.0  ...                  25.0   \n",
       "\n",
       "   MSinceMostRecentInqexcl7days  NumInqLast6M  NumInqLast6Mexcl7days  \\\n",
       "0                           0.0           0.0                    0.0   \n",
       "1                           0.0           0.0                    0.0   \n",
       "2                           0.0           4.0                    4.0   \n",
       "3                           0.0           5.0                    4.0   \n",
       "4                           0.0           1.0                    1.0   \n",
       "\n",
       "   NetFractionRevolvingBurden  NetFractionInstallBurden  \\\n",
       "0                        33.0                       NaN   \n",
       "1                         0.0                       NaN   \n",
       "2                        53.0                      66.0   \n",
       "3                        72.0                      83.0   \n",
       "4                        51.0                      89.0   \n",
       "\n",
       "   NumRevolvingTradesWBalance  NumInstallTradesWBalance  \\\n",
       "0                         8.0                       1.0   \n",
       "1                         0.0                       NaN   \n",
       "2                         4.0                       2.0   \n",
       "3                         6.0                       4.0   \n",
       "4                         3.0                       1.0   \n",
       "\n",
       "   NumBank2NatlTradesWHighUtilization  PercentTradesWBalance  \n",
       "0                                 1.0                   69.0  \n",
       "1                                 NaN                    0.0  \n",
       "2                                 1.0                   86.0  \n",
       "3                                 3.0                   91.0  \n",
       "4                                 0.0                   80.0  \n",
       "\n",
       "[5 rows x 23 columns]"
      ]
     },
     "execution_count": 20,
     "metadata": {},
     "output_type": "execute_result"
    }
   ],
   "source": [
    "# Convert negative values to NaN\n",
    "df.shape\n",
    "target = df.iloc[:, 0]\n",
    "features = df.iloc[:, 1:24]\n",
    "features[features < 0] = np.NaN"
   ]
  },
  {
   "cell_type": "code",
   "execution_count": 28,
   "metadata": {},
   "outputs": [
    {
     "data": {
      "text/plain": [
       "RiskPerformance                        object\n",
       "ExternalRiskEstimate                  float64\n",
       "MSinceOldestTradeOpen                 float64\n",
       "MSinceMostRecentTradeOpen             float64\n",
       "AverageMInFile                        float64\n",
       "NumSatisfactoryTrades                 float64\n",
       "NumTrades60Ever2DerogPubRec           float64\n",
       "NumTrades90Ever2DerogPubRec           float64\n",
       "PercentTradesNeverDelq                float64\n",
       "MSinceMostRecentDelq                  float64\n",
       "MaxDelq2PublicRecLast12M              float64\n",
       "MaxDelqEver                           float64\n",
       "NumTotalTrades                        float64\n",
       "NumTradesOpeninLast12M                float64\n",
       "PercentInstallTrades                  float64\n",
       "MSinceMostRecentInqexcl7days          float64\n",
       "NumInqLast6M                          float64\n",
       "NumInqLast6Mexcl7days                 float64\n",
       "NetFractionRevolvingBurden            float64\n",
       "NetFractionInstallBurden              float64\n",
       "NumRevolvingTradesWBalance            float64\n",
       "NumInstallTradesWBalance              float64\n",
       "NumBank2NatlTradesWHighUtilization    float64\n",
       "PercentTradesWBalance                 float64\n",
       "dtype: object"
      ]
     },
     "execution_count": 28,
     "metadata": {},
     "output_type": "execute_result"
    }
   ],
   "source": [
    "# Recombine target and features\n",
    "# Place the DataFrames side by side\n",
    "data = pd.concat([target, features], axis=1)\n",
    "data.dtypes"
   ]
  },
  {
   "cell_type": "code",
   "execution_count": 23,
   "metadata": {},
   "outputs": [
    {
     "data": {
      "text/html": [
       "<div>\n",
       "<style scoped>\n",
       "    .dataframe tbody tr th:only-of-type {\n",
       "        vertical-align: middle;\n",
       "    }\n",
       "\n",
       "    .dataframe tbody tr th {\n",
       "        vertical-align: top;\n",
       "    }\n",
       "\n",
       "    .dataframe thead th {\n",
       "        text-align: right;\n",
       "    }\n",
       "</style>\n",
       "<table border=\"1\" class=\"dataframe\">\n",
       "  <thead>\n",
       "    <tr style=\"text-align: right;\">\n",
       "      <th></th>\n",
       "      <th>4322</th>\n",
       "      <th>8920</th>\n",
       "      <th>3288</th>\n",
       "      <th>928</th>\n",
       "      <th>7855</th>\n",
       "    </tr>\n",
       "  </thead>\n",
       "  <tbody>\n",
       "    <tr>\n",
       "      <th>ExternalRiskEstimate</th>\n",
       "      <td>71.0</td>\n",
       "      <td>56.0</td>\n",
       "      <td>72.0</td>\n",
       "      <td>70.0</td>\n",
       "      <td>64.0</td>\n",
       "    </tr>\n",
       "    <tr>\n",
       "      <th>MSinceOldestTradeOpen</th>\n",
       "      <td>268.0</td>\n",
       "      <td>66.0</td>\n",
       "      <td>377.0</td>\n",
       "      <td>163.0</td>\n",
       "      <td>105.0</td>\n",
       "    </tr>\n",
       "    <tr>\n",
       "      <th>MSinceMostRecentTradeOpen</th>\n",
       "      <td>6.0</td>\n",
       "      <td>2.0</td>\n",
       "      <td>2.0</td>\n",
       "      <td>3.0</td>\n",
       "      <td>3.0</td>\n",
       "    </tr>\n",
       "    <tr>\n",
       "      <th>AverageMInFile</th>\n",
       "      <td>77.0</td>\n",
       "      <td>25.0</td>\n",
       "      <td>146.0</td>\n",
       "      <td>65.0</td>\n",
       "      <td>40.0</td>\n",
       "    </tr>\n",
       "    <tr>\n",
       "      <th>NumSatisfactoryTrades</th>\n",
       "      <td>14.0</td>\n",
       "      <td>13.0</td>\n",
       "      <td>37.0</td>\n",
       "      <td>37.0</td>\n",
       "      <td>21.0</td>\n",
       "    </tr>\n",
       "    <tr>\n",
       "      <th>NumTrades60Ever2DerogPubRec</th>\n",
       "      <td>1.0</td>\n",
       "      <td>2.0</td>\n",
       "      <td>1.0</td>\n",
       "      <td>0.0</td>\n",
       "      <td>0.0</td>\n",
       "    </tr>\n",
       "    <tr>\n",
       "      <th>NumTrades90Ever2DerogPubRec</th>\n",
       "      <td>1.0</td>\n",
       "      <td>2.0</td>\n",
       "      <td>1.0</td>\n",
       "      <td>0.0</td>\n",
       "      <td>0.0</td>\n",
       "    </tr>\n",
       "    <tr>\n",
       "      <th>PercentTradesNeverDelq</th>\n",
       "      <td>100.0</td>\n",
       "      <td>93.0</td>\n",
       "      <td>97.0</td>\n",
       "      <td>97.0</td>\n",
       "      <td>100.0</td>\n",
       "    </tr>\n",
       "    <tr>\n",
       "      <th>MSinceMostRecentDelq</th>\n",
       "      <td>NaN</td>\n",
       "      <td>52.0</td>\n",
       "      <td>71.0</td>\n",
       "      <td>6.0</td>\n",
       "      <td>NaN</td>\n",
       "    </tr>\n",
       "    <tr>\n",
       "      <th>MaxDelq2PublicRecLast12M</th>\n",
       "      <td>0.0</td>\n",
       "      <td>6.0</td>\n",
       "      <td>6.0</td>\n",
       "      <td>4.0</td>\n",
       "      <td>7.0</td>\n",
       "    </tr>\n",
       "    <tr>\n",
       "      <th>MaxDelqEver</th>\n",
       "      <td>8.0</td>\n",
       "      <td>4.0</td>\n",
       "      <td>2.0</td>\n",
       "      <td>6.0</td>\n",
       "      <td>8.0</td>\n",
       "    </tr>\n",
       "    <tr>\n",
       "      <th>NumTotalTrades</th>\n",
       "      <td>15.0</td>\n",
       "      <td>16.0</td>\n",
       "      <td>39.0</td>\n",
       "      <td>39.0</td>\n",
       "      <td>21.0</td>\n",
       "    </tr>\n",
       "    <tr>\n",
       "      <th>NumTradesOpeninLast12M</th>\n",
       "      <td>2.0</td>\n",
       "      <td>6.0</td>\n",
       "      <td>1.0</td>\n",
       "      <td>2.0</td>\n",
       "      <td>8.0</td>\n",
       "    </tr>\n",
       "    <tr>\n",
       "      <th>PercentInstallTrades</th>\n",
       "      <td>50.0</td>\n",
       "      <td>40.0</td>\n",
       "      <td>21.0</td>\n",
       "      <td>36.0</td>\n",
       "      <td>43.0</td>\n",
       "    </tr>\n",
       "    <tr>\n",
       "      <th>MSinceMostRecentInqexcl7days</th>\n",
       "      <td>0.0</td>\n",
       "      <td>0.0</td>\n",
       "      <td>2.0</td>\n",
       "      <td>1.0</td>\n",
       "      <td>0.0</td>\n",
       "    </tr>\n",
       "    <tr>\n",
       "      <th>NumInqLast6M</th>\n",
       "      <td>0.0</td>\n",
       "      <td>2.0</td>\n",
       "      <td>2.0</td>\n",
       "      <td>10.0</td>\n",
       "      <td>12.0</td>\n",
       "    </tr>\n",
       "    <tr>\n",
       "      <th>NumInqLast6Mexcl7days</th>\n",
       "      <td>0.0</td>\n",
       "      <td>2.0</td>\n",
       "      <td>2.0</td>\n",
       "      <td>10.0</td>\n",
       "      <td>12.0</td>\n",
       "    </tr>\n",
       "    <tr>\n",
       "      <th>NetFractionRevolvingBurden</th>\n",
       "      <td>3.0</td>\n",
       "      <td>80.0</td>\n",
       "      <td>35.0</td>\n",
       "      <td>5.0</td>\n",
       "      <td>82.0</td>\n",
       "    </tr>\n",
       "    <tr>\n",
       "      <th>NetFractionInstallBurden</th>\n",
       "      <td>NaN</td>\n",
       "      <td>95.0</td>\n",
       "      <td>NaN</td>\n",
       "      <td>53.0</td>\n",
       "      <td>116.0</td>\n",
       "    </tr>\n",
       "    <tr>\n",
       "      <th>NumRevolvingTradesWBalance</th>\n",
       "      <td>1.0</td>\n",
       "      <td>8.0</td>\n",
       "      <td>5.0</td>\n",
       "      <td>4.0</td>\n",
       "      <td>1.0</td>\n",
       "    </tr>\n",
       "    <tr>\n",
       "      <th>NumInstallTradesWBalance</th>\n",
       "      <td>1.0</td>\n",
       "      <td>5.0</td>\n",
       "      <td>1.0</td>\n",
       "      <td>2.0</td>\n",
       "      <td>8.0</td>\n",
       "    </tr>\n",
       "    <tr>\n",
       "      <th>NumBank2NatlTradesWHighUtilization</th>\n",
       "      <td>0.0</td>\n",
       "      <td>2.0</td>\n",
       "      <td>3.0</td>\n",
       "      <td>0.0</td>\n",
       "      <td>1.0</td>\n",
       "    </tr>\n",
       "    <tr>\n",
       "      <th>PercentTradesWBalance</th>\n",
       "      <td>50.0</td>\n",
       "      <td>100.0</td>\n",
       "      <td>47.0</td>\n",
       "      <td>47.0</td>\n",
       "      <td>83.0</td>\n",
       "    </tr>\n",
       "  </tbody>\n",
       "</table>\n",
       "</div>"
      ],
      "text/plain": [
       "                                     4322   8920   3288   928    7855\n",
       "ExternalRiskEstimate                 71.0   56.0   72.0   70.0   64.0\n",
       "MSinceOldestTradeOpen               268.0   66.0  377.0  163.0  105.0\n",
       "MSinceMostRecentTradeOpen             6.0    2.0    2.0    3.0    3.0\n",
       "AverageMInFile                       77.0   25.0  146.0   65.0   40.0\n",
       "NumSatisfactoryTrades                14.0   13.0   37.0   37.0   21.0\n",
       "NumTrades60Ever2DerogPubRec           1.0    2.0    1.0    0.0    0.0\n",
       "NumTrades90Ever2DerogPubRec           1.0    2.0    1.0    0.0    0.0\n",
       "PercentTradesNeverDelq              100.0   93.0   97.0   97.0  100.0\n",
       "MSinceMostRecentDelq                  NaN   52.0   71.0    6.0    NaN\n",
       "MaxDelq2PublicRecLast12M              0.0    6.0    6.0    4.0    7.0\n",
       "MaxDelqEver                           8.0    4.0    2.0    6.0    8.0\n",
       "NumTotalTrades                       15.0   16.0   39.0   39.0   21.0\n",
       "NumTradesOpeninLast12M                2.0    6.0    1.0    2.0    8.0\n",
       "PercentInstallTrades                 50.0   40.0   21.0   36.0   43.0\n",
       "MSinceMostRecentInqexcl7days          0.0    0.0    2.0    1.0    0.0\n",
       "NumInqLast6M                          0.0    2.0    2.0   10.0   12.0\n",
       "NumInqLast6Mexcl7days                 0.0    2.0    2.0   10.0   12.0\n",
       "NetFractionRevolvingBurden            3.0   80.0   35.0    5.0   82.0\n",
       "NetFractionInstallBurden              NaN   95.0    NaN   53.0  116.0\n",
       "NumRevolvingTradesWBalance            1.0    8.0    5.0    4.0    1.0\n",
       "NumInstallTradesWBalance              1.0    5.0    1.0    2.0    8.0\n",
       "NumBank2NatlTradesWHighUtilization    0.0    2.0    3.0    0.0    1.0\n",
       "PercentTradesWBalance                50.0  100.0   47.0   47.0   83.0"
      ]
     },
     "execution_count": 23,
     "metadata": {},
     "output_type": "execute_result"
    }
   ],
   "source": [
    "# Separate target variable\n",
    "y = data.pop('RiskPerformance')\n",
    "# Split data into training and test sets using fixed random seed\n",
    "from sklearn.model_selection import train_test_split\n",
    "dfTrain, dfTest, yTrain, yTest = train_test_split(data, y, random_state=0, stratify=y)\n",
    "dfTrain.head().transpose()"
   ]
  },
  {
   "cell_type": "markdown",
   "metadata": {
    "id": "IFImxwHYa1O3"
   },
   "source": [
    "# **Binarize the values for algorithms**"
   ]
  },
  {
   "cell_type": "code",
   "execution_count": 24,
   "metadata": {
    "colab": {
     "base_uri": "https://localhost:8080/",
     "height": 237
    },
    "id": "Sjbpi129Yqjr",
    "outputId": "9dbd05c1-f589-436b-e54a-6261b8a6f4cd"
   },
   "outputs": [
    {
     "data": {
      "text/html": [
       "<div>\n",
       "<style scoped>\n",
       "    .dataframe tbody tr th:only-of-type {\n",
       "        vertical-align: middle;\n",
       "    }\n",
       "\n",
       "    .dataframe tbody tr th {\n",
       "        vertical-align: top;\n",
       "    }\n",
       "\n",
       "    .dataframe thead tr th {\n",
       "        text-align: left;\n",
       "    }\n",
       "</style>\n",
       "<table border=\"1\" class=\"dataframe\">\n",
       "  <thead>\n",
       "    <tr>\n",
       "      <th>operation</th>\n",
       "      <th colspan=\"9\" halign=\"left\">&lt;=</th>\n",
       "      <th colspan=\"9\" halign=\"left\">&gt;</th>\n",
       "      <th>==</th>\n",
       "      <th>!=</th>\n",
       "    </tr>\n",
       "    <tr>\n",
       "      <th>value</th>\n",
       "      <th>59.0</th>\n",
       "      <th>63.0</th>\n",
       "      <th>66.0</th>\n",
       "      <th>69.0</th>\n",
       "      <th>72.0</th>\n",
       "      <th>75.0</th>\n",
       "      <th>78.0</th>\n",
       "      <th>82.0</th>\n",
       "      <th>86.0</th>\n",
       "      <th>59.0</th>\n",
       "      <th>63.0</th>\n",
       "      <th>66.0</th>\n",
       "      <th>69.0</th>\n",
       "      <th>72.0</th>\n",
       "      <th>75.0</th>\n",
       "      <th>78.0</th>\n",
       "      <th>82.0</th>\n",
       "      <th>86.0</th>\n",
       "      <th>NaN</th>\n",
       "      <th>NaN</th>\n",
       "    </tr>\n",
       "  </thead>\n",
       "  <tbody>\n",
       "    <tr>\n",
       "      <th>4322</th>\n",
       "      <td>0</td>\n",
       "      <td>0</td>\n",
       "      <td>0</td>\n",
       "      <td>0</td>\n",
       "      <td>1</td>\n",
       "      <td>1</td>\n",
       "      <td>1</td>\n",
       "      <td>1</td>\n",
       "      <td>1</td>\n",
       "      <td>1</td>\n",
       "      <td>1</td>\n",
       "      <td>1</td>\n",
       "      <td>1</td>\n",
       "      <td>0</td>\n",
       "      <td>0</td>\n",
       "      <td>0</td>\n",
       "      <td>0</td>\n",
       "      <td>0</td>\n",
       "      <td>0</td>\n",
       "      <td>1</td>\n",
       "    </tr>\n",
       "    <tr>\n",
       "      <th>8920</th>\n",
       "      <td>1</td>\n",
       "      <td>1</td>\n",
       "      <td>1</td>\n",
       "      <td>1</td>\n",
       "      <td>1</td>\n",
       "      <td>1</td>\n",
       "      <td>1</td>\n",
       "      <td>1</td>\n",
       "      <td>1</td>\n",
       "      <td>0</td>\n",
       "      <td>0</td>\n",
       "      <td>0</td>\n",
       "      <td>0</td>\n",
       "      <td>0</td>\n",
       "      <td>0</td>\n",
       "      <td>0</td>\n",
       "      <td>0</td>\n",
       "      <td>0</td>\n",
       "      <td>0</td>\n",
       "      <td>1</td>\n",
       "    </tr>\n",
       "    <tr>\n",
       "      <th>3288</th>\n",
       "      <td>0</td>\n",
       "      <td>0</td>\n",
       "      <td>0</td>\n",
       "      <td>0</td>\n",
       "      <td>1</td>\n",
       "      <td>1</td>\n",
       "      <td>1</td>\n",
       "      <td>1</td>\n",
       "      <td>1</td>\n",
       "      <td>1</td>\n",
       "      <td>1</td>\n",
       "      <td>1</td>\n",
       "      <td>1</td>\n",
       "      <td>0</td>\n",
       "      <td>0</td>\n",
       "      <td>0</td>\n",
       "      <td>0</td>\n",
       "      <td>0</td>\n",
       "      <td>0</td>\n",
       "      <td>1</td>\n",
       "    </tr>\n",
       "    <tr>\n",
       "      <th>928</th>\n",
       "      <td>0</td>\n",
       "      <td>0</td>\n",
       "      <td>0</td>\n",
       "      <td>0</td>\n",
       "      <td>1</td>\n",
       "      <td>1</td>\n",
       "      <td>1</td>\n",
       "      <td>1</td>\n",
       "      <td>1</td>\n",
       "      <td>1</td>\n",
       "      <td>1</td>\n",
       "      <td>1</td>\n",
       "      <td>1</td>\n",
       "      <td>0</td>\n",
       "      <td>0</td>\n",
       "      <td>0</td>\n",
       "      <td>0</td>\n",
       "      <td>0</td>\n",
       "      <td>0</td>\n",
       "      <td>1</td>\n",
       "    </tr>\n",
       "    <tr>\n",
       "      <th>7855</th>\n",
       "      <td>0</td>\n",
       "      <td>0</td>\n",
       "      <td>1</td>\n",
       "      <td>1</td>\n",
       "      <td>1</td>\n",
       "      <td>1</td>\n",
       "      <td>1</td>\n",
       "      <td>1</td>\n",
       "      <td>1</td>\n",
       "      <td>1</td>\n",
       "      <td>1</td>\n",
       "      <td>0</td>\n",
       "      <td>0</td>\n",
       "      <td>0</td>\n",
       "      <td>0</td>\n",
       "      <td>0</td>\n",
       "      <td>0</td>\n",
       "      <td>0</td>\n",
       "      <td>0</td>\n",
       "      <td>1</td>\n",
       "    </tr>\n",
       "  </tbody>\n",
       "</table>\n",
       "</div>"
      ],
      "text/plain": [
       "operation   <=                                            >                 \\\n",
       "value     59.0 63.0 66.0 69.0 72.0 75.0 78.0 82.0 86.0 59.0 63.0 66.0 69.0   \n",
       "4322         0    0    0    0    1    1    1    1    1    1    1    1    1   \n",
       "8920         1    1    1    1    1    1    1    1    1    0    0    0    0   \n",
       "3288         0    0    0    0    1    1    1    1    1    1    1    1    1   \n",
       "928          0    0    0    0    1    1    1    1    1    1    1    1    1   \n",
       "7855         0    0    1    1    1    1    1    1    1    1    1    0    0   \n",
       "\n",
       "operation                           ==  !=  \n",
       "value     72.0 75.0 78.0 82.0 86.0 NaN NaN  \n",
       "4322         0    0    0    0    0   0   1  \n",
       "8920         0    0    0    0    0   0   1  \n",
       "3288         0    0    0    0    0   0   1  \n",
       "928          0    0    0    0    0   0   1  \n",
       "7855         0    0    0    0    0   0   1  "
      ]
     },
     "execution_count": 24,
     "metadata": {},
     "output_type": "execute_result"
    }
   ],
   "source": [
    "# Binarize data and also return standardized ordinal features\n",
    "from aix360.algorithms.rbm import FeatureBinarizer\n",
    "fb = FeatureBinarizer(negations=True, returnOrd=True)\n",
    "##return standardized versions of the original unbinarized ordinal features, which are used by LogRR but not BRCG\n",
    "dfTrain, dfTrainStd = fb.fit_transform(dfTrain)\n",
    "dfTest, dfTestStd = fb.transform(dfTest)\n",
    "#Below is the result of binarizing the first 'ExternalRiskEstimate' feature.\n",
    "dfTrain['ExternalRiskEstimate'].head()"
   ]
  },
  {
   "cell_type": "code",
   "execution_count": null,
   "metadata": {},
   "outputs": [],
   "source": []
  },
  {
   "cell_type": "code",
   "execution_count": 9,
   "metadata": {
    "colab": {
     "base_uri": "https://localhost:8080/",
     "height": 1000
    },
    "collapsed": true,
    "id": "mFxBY6sKKvSb",
    "jupyter": {
     "outputs_hidden": true
    },
    "outputId": "985e0bc2-c90d-48fa-d95e-5a78046f3d3b",
    "tags": []
   },
   "outputs": [
    {
     "data": {
      "text/html": [
       "<div>\n",
       "<style scoped>\n",
       "    .dataframe tbody tr th:only-of-type {\n",
       "        vertical-align: middle;\n",
       "    }\n",
       "\n",
       "    .dataframe tbody tr th {\n",
       "        vertical-align: top;\n",
       "    }\n",
       "\n",
       "    .dataframe thead th {\n",
       "        text-align: right;\n",
       "    }\n",
       "</style>\n",
       "<table border=\"1\" class=\"dataframe\">\n",
       "  <thead>\n",
       "    <tr style=\"text-align: right;\">\n",
       "      <th></th>\n",
       "      <th>0</th>\n",
       "      <th>1</th>\n",
       "      <th>2</th>\n",
       "      <th>3</th>\n",
       "      <th>4</th>\n",
       "    </tr>\n",
       "  </thead>\n",
       "  <tbody>\n",
       "    <tr>\n",
       "      <th>ExternalRiskEstimate</th>\n",
       "      <td>70.000000</td>\n",
       "      <td>62.00</td>\n",
       "      <td>68.000</td>\n",
       "      <td>66.000000</td>\n",
       "      <td>74.00000</td>\n",
       "    </tr>\n",
       "    <tr>\n",
       "      <th>MSinceOldestTradeOpen</th>\n",
       "      <td>145.000000</td>\n",
       "      <td>254.00</td>\n",
       "      <td>222.000</td>\n",
       "      <td>95.000000</td>\n",
       "      <td>191.00000</td>\n",
       "    </tr>\n",
       "    <tr>\n",
       "      <th>MSinceMostRecentTradeOpen</th>\n",
       "      <td>1.000000</td>\n",
       "      <td>20.00</td>\n",
       "      <td>2.000</td>\n",
       "      <td>21.000000</td>\n",
       "      <td>4.00000</td>\n",
       "    </tr>\n",
       "    <tr>\n",
       "      <th>AverageMInFile</th>\n",
       "      <td>11.000000</td>\n",
       "      <td>69.00</td>\n",
       "      <td>93.000</td>\n",
       "      <td>64.000000</td>\n",
       "      <td>66.00000</td>\n",
       "    </tr>\n",
       "    <tr>\n",
       "      <th>NumSatisfactoryTrades</th>\n",
       "      <td>8.000000</td>\n",
       "      <td>11.00</td>\n",
       "      <td>32.000</td>\n",
       "      <td>18.000000</td>\n",
       "      <td>37.00000</td>\n",
       "    </tr>\n",
       "    <tr>\n",
       "      <th>NumTrades60Ever2DerogPubRec</th>\n",
       "      <td>0.000000</td>\n",
       "      <td>5.00</td>\n",
       "      <td>0.000</td>\n",
       "      <td>1.000000</td>\n",
       "      <td>0.00000</td>\n",
       "    </tr>\n",
       "    <tr>\n",
       "      <th>NumTrades90Ever2DerogPubRec</th>\n",
       "      <td>0.000000</td>\n",
       "      <td>4.00</td>\n",
       "      <td>0.000</td>\n",
       "      <td>1.000000</td>\n",
       "      <td>0.00000</td>\n",
       "    </tr>\n",
       "    <tr>\n",
       "      <th>PercentTradesNeverDelq</th>\n",
       "      <td>100.000000</td>\n",
       "      <td>69.00</td>\n",
       "      <td>97.000</td>\n",
       "      <td>100.000000</td>\n",
       "      <td>97.00000</td>\n",
       "    </tr>\n",
       "    <tr>\n",
       "      <th>MSinceMostRecentDelq</th>\n",
       "      <td>32.788333</td>\n",
       "      <td>24.00</td>\n",
       "      <td>16.000</td>\n",
       "      <td>33.646667</td>\n",
       "      <td>13.00000</td>\n",
       "    </tr>\n",
       "    <tr>\n",
       "      <th>MaxDelq2PublicRecLast12M</th>\n",
       "      <td>7.000000</td>\n",
       "      <td>6.00</td>\n",
       "      <td>6.000</td>\n",
       "      <td>6.000000</td>\n",
       "      <td>6.00000</td>\n",
       "    </tr>\n",
       "    <tr>\n",
       "      <th>MaxDelqEver</th>\n",
       "      <td>8.000000</td>\n",
       "      <td>2.00</td>\n",
       "      <td>6.000</td>\n",
       "      <td>8.000000</td>\n",
       "      <td>6.00000</td>\n",
       "    </tr>\n",
       "    <tr>\n",
       "      <th>NumTotalTrades</th>\n",
       "      <td>8.000000</td>\n",
       "      <td>21.00</td>\n",
       "      <td>37.000</td>\n",
       "      <td>18.000000</td>\n",
       "      <td>26.00000</td>\n",
       "    </tr>\n",
       "    <tr>\n",
       "      <th>NumTradesOpeninLast12M</th>\n",
       "      <td>4.000000</td>\n",
       "      <td>0.00</td>\n",
       "      <td>1.000</td>\n",
       "      <td>0.000000</td>\n",
       "      <td>1.00000</td>\n",
       "    </tr>\n",
       "    <tr>\n",
       "      <th>PercentInstallTrades</th>\n",
       "      <td>30.000000</td>\n",
       "      <td>44.00</td>\n",
       "      <td>35.000</td>\n",
       "      <td>22.000000</td>\n",
       "      <td>57.00000</td>\n",
       "    </tr>\n",
       "    <tr>\n",
       "      <th>MSinceMostRecentInqexcl7days</th>\n",
       "      <td>1.000000</td>\n",
       "      <td>4.01</td>\n",
       "      <td>0.000</td>\n",
       "      <td>0.000000</td>\n",
       "      <td>6.92805</td>\n",
       "    </tr>\n",
       "    <tr>\n",
       "      <th>NumInqLast6M</th>\n",
       "      <td>4.000000</td>\n",
       "      <td>0.00</td>\n",
       "      <td>2.000</td>\n",
       "      <td>0.000000</td>\n",
       "      <td>0.00000</td>\n",
       "    </tr>\n",
       "    <tr>\n",
       "      <th>NumInqLast6Mexcl7days</th>\n",
       "      <td>4.000000</td>\n",
       "      <td>0.00</td>\n",
       "      <td>2.000</td>\n",
       "      <td>0.000000</td>\n",
       "      <td>0.00000</td>\n",
       "    </tr>\n",
       "    <tr>\n",
       "      <th>NetFractionRevolvingBurden</th>\n",
       "      <td>28.000000</td>\n",
       "      <td>40.00</td>\n",
       "      <td>62.000</td>\n",
       "      <td>75.000000</td>\n",
       "      <td>33.00000</td>\n",
       "    </tr>\n",
       "    <tr>\n",
       "      <th>NetFractionInstallBurden</th>\n",
       "      <td>80.573333</td>\n",
       "      <td>44.00</td>\n",
       "      <td>64.765</td>\n",
       "      <td>53.000000</td>\n",
       "      <td>83.00000</td>\n",
       "    </tr>\n",
       "    <tr>\n",
       "      <th>NumRevolvingTradesWBalance</th>\n",
       "      <td>2.000000</td>\n",
       "      <td>5.00</td>\n",
       "      <td>5.000</td>\n",
       "      <td>7.000000</td>\n",
       "      <td>4.00000</td>\n",
       "    </tr>\n",
       "    <tr>\n",
       "      <th>NumInstallTradesWBalance</th>\n",
       "      <td>1.000000</td>\n",
       "      <td>2.00</td>\n",
       "      <td>1.000</td>\n",
       "      <td>2.000000</td>\n",
       "      <td>6.00000</td>\n",
       "    </tr>\n",
       "    <tr>\n",
       "      <th>NumBank2NatlTradesWHighUtilization</th>\n",
       "      <td>0.000000</td>\n",
       "      <td>2.00</td>\n",
       "      <td>2.000</td>\n",
       "      <td>4.000000</td>\n",
       "      <td>0.00000</td>\n",
       "    </tr>\n",
       "    <tr>\n",
       "      <th>PercentTradesWBalance</th>\n",
       "      <td>43.000000</td>\n",
       "      <td>100.00</td>\n",
       "      <td>60.000</td>\n",
       "      <td>100.000000</td>\n",
       "      <td>63.00000</td>\n",
       "    </tr>\n",
       "    <tr>\n",
       "      <th>No_report</th>\n",
       "      <td>0.000000</td>\n",
       "      <td>0.00</td>\n",
       "      <td>0.000</td>\n",
       "      <td>0.000000</td>\n",
       "      <td>0.00000</td>\n",
       "    </tr>\n",
       "    <tr>\n",
       "      <th>No_valid_MSinceOldestTradeOpen</th>\n",
       "      <td>0.000000</td>\n",
       "      <td>0.00</td>\n",
       "      <td>0.000</td>\n",
       "      <td>0.000000</td>\n",
       "      <td>0.00000</td>\n",
       "    </tr>\n",
       "    <tr>\n",
       "      <th>No_valid_MSinceMostRecentDelq</th>\n",
       "      <td>0.000000</td>\n",
       "      <td>0.00</td>\n",
       "      <td>0.000</td>\n",
       "      <td>0.000000</td>\n",
       "      <td>0.00000</td>\n",
       "    </tr>\n",
       "    <tr>\n",
       "      <th>No_valid_MSinceMostRecentInqexcl7days</th>\n",
       "      <td>0.000000</td>\n",
       "      <td>1.00</td>\n",
       "      <td>0.000</td>\n",
       "      <td>0.000000</td>\n",
       "      <td>0.00000</td>\n",
       "    </tr>\n",
       "    <tr>\n",
       "      <th>No_valid_NetFractionRevolvingBurden</th>\n",
       "      <td>0.000000</td>\n",
       "      <td>0.00</td>\n",
       "      <td>0.000</td>\n",
       "      <td>0.000000</td>\n",
       "      <td>0.00000</td>\n",
       "    </tr>\n",
       "    <tr>\n",
       "      <th>No_valid_NetFractionInstallBurden</th>\n",
       "      <td>1.000000</td>\n",
       "      <td>0.00</td>\n",
       "      <td>1.000</td>\n",
       "      <td>0.000000</td>\n",
       "      <td>0.00000</td>\n",
       "    </tr>\n",
       "    <tr>\n",
       "      <th>No_valid_NumRevolvingTradesWBalance</th>\n",
       "      <td>0.000000</td>\n",
       "      <td>0.00</td>\n",
       "      <td>0.000</td>\n",
       "      <td>0.000000</td>\n",
       "      <td>0.00000</td>\n",
       "    </tr>\n",
       "    <tr>\n",
       "      <th>No_valid_NumInstallTradesWBalance</th>\n",
       "      <td>0.000000</td>\n",
       "      <td>0.00</td>\n",
       "      <td>0.000</td>\n",
       "      <td>0.000000</td>\n",
       "      <td>0.00000</td>\n",
       "    </tr>\n",
       "    <tr>\n",
       "      <th>No_valid_NumBank2NatlTradesWHighUtilization</th>\n",
       "      <td>0.000000</td>\n",
       "      <td>0.00</td>\n",
       "      <td>0.000</td>\n",
       "      <td>0.000000</td>\n",
       "      <td>0.00000</td>\n",
       "    </tr>\n",
       "    <tr>\n",
       "      <th>No_MSinceMostRecentDelq</th>\n",
       "      <td>1.000000</td>\n",
       "      <td>0.00</td>\n",
       "      <td>0.000</td>\n",
       "      <td>1.000000</td>\n",
       "      <td>0.00000</td>\n",
       "    </tr>\n",
       "    <tr>\n",
       "      <th>No_MSinceMostRecentInqexcl7days</th>\n",
       "      <td>0.000000</td>\n",
       "      <td>0.00</td>\n",
       "      <td>0.000</td>\n",
       "      <td>0.000000</td>\n",
       "      <td>1.00000</td>\n",
       "    </tr>\n",
       "  </tbody>\n",
       "</table>\n",
       "</div>"
      ],
      "text/plain": [
       "                                                      0       1        2  \\\n",
       "ExternalRiskEstimate                          70.000000   62.00   68.000   \n",
       "MSinceOldestTradeOpen                        145.000000  254.00  222.000   \n",
       "MSinceMostRecentTradeOpen                      1.000000   20.00    2.000   \n",
       "AverageMInFile                                11.000000   69.00   93.000   \n",
       "NumSatisfactoryTrades                          8.000000   11.00   32.000   \n",
       "NumTrades60Ever2DerogPubRec                    0.000000    5.00    0.000   \n",
       "NumTrades90Ever2DerogPubRec                    0.000000    4.00    0.000   \n",
       "PercentTradesNeverDelq                       100.000000   69.00   97.000   \n",
       "MSinceMostRecentDelq                          32.788333   24.00   16.000   \n",
       "MaxDelq2PublicRecLast12M                       7.000000    6.00    6.000   \n",
       "MaxDelqEver                                    8.000000    2.00    6.000   \n",
       "NumTotalTrades                                 8.000000   21.00   37.000   \n",
       "NumTradesOpeninLast12M                         4.000000    0.00    1.000   \n",
       "PercentInstallTrades                          30.000000   44.00   35.000   \n",
       "MSinceMostRecentInqexcl7days                   1.000000    4.01    0.000   \n",
       "NumInqLast6M                                   4.000000    0.00    2.000   \n",
       "NumInqLast6Mexcl7days                          4.000000    0.00    2.000   \n",
       "NetFractionRevolvingBurden                    28.000000   40.00   62.000   \n",
       "NetFractionInstallBurden                      80.573333   44.00   64.765   \n",
       "NumRevolvingTradesWBalance                     2.000000    5.00    5.000   \n",
       "NumInstallTradesWBalance                       1.000000    2.00    1.000   \n",
       "NumBank2NatlTradesWHighUtilization             0.000000    2.00    2.000   \n",
       "PercentTradesWBalance                         43.000000  100.00   60.000   \n",
       "No_report                                      0.000000    0.00    0.000   \n",
       "No_valid_MSinceOldestTradeOpen                 0.000000    0.00    0.000   \n",
       "No_valid_MSinceMostRecentDelq                  0.000000    0.00    0.000   \n",
       "No_valid_MSinceMostRecentInqexcl7days          0.000000    1.00    0.000   \n",
       "No_valid_NetFractionRevolvingBurden            0.000000    0.00    0.000   \n",
       "No_valid_NetFractionInstallBurden              1.000000    0.00    1.000   \n",
       "No_valid_NumRevolvingTradesWBalance            0.000000    0.00    0.000   \n",
       "No_valid_NumInstallTradesWBalance              0.000000    0.00    0.000   \n",
       "No_valid_NumBank2NatlTradesWHighUtilization    0.000000    0.00    0.000   \n",
       "No_MSinceMostRecentDelq                        1.000000    0.00    0.000   \n",
       "No_MSinceMostRecentInqexcl7days                0.000000    0.00    0.000   \n",
       "\n",
       "                                                      3          4  \n",
       "ExternalRiskEstimate                          66.000000   74.00000  \n",
       "MSinceOldestTradeOpen                         95.000000  191.00000  \n",
       "MSinceMostRecentTradeOpen                     21.000000    4.00000  \n",
       "AverageMInFile                                64.000000   66.00000  \n",
       "NumSatisfactoryTrades                         18.000000   37.00000  \n",
       "NumTrades60Ever2DerogPubRec                    1.000000    0.00000  \n",
       "NumTrades90Ever2DerogPubRec                    1.000000    0.00000  \n",
       "PercentTradesNeverDelq                       100.000000   97.00000  \n",
       "MSinceMostRecentDelq                          33.646667   13.00000  \n",
       "MaxDelq2PublicRecLast12M                       6.000000    6.00000  \n",
       "MaxDelqEver                                    8.000000    6.00000  \n",
       "NumTotalTrades                                18.000000   26.00000  \n",
       "NumTradesOpeninLast12M                         0.000000    1.00000  \n",
       "PercentInstallTrades                          22.000000   57.00000  \n",
       "MSinceMostRecentInqexcl7days                   0.000000    6.92805  \n",
       "NumInqLast6M                                   0.000000    0.00000  \n",
       "NumInqLast6Mexcl7days                          0.000000    0.00000  \n",
       "NetFractionRevolvingBurden                    75.000000   33.00000  \n",
       "NetFractionInstallBurden                      53.000000   83.00000  \n",
       "NumRevolvingTradesWBalance                     7.000000    4.00000  \n",
       "NumInstallTradesWBalance                       2.000000    6.00000  \n",
       "NumBank2NatlTradesWHighUtilization             4.000000    0.00000  \n",
       "PercentTradesWBalance                        100.000000   63.00000  \n",
       "No_report                                      0.000000    0.00000  \n",
       "No_valid_MSinceOldestTradeOpen                 0.000000    0.00000  \n",
       "No_valid_MSinceMostRecentDelq                  0.000000    0.00000  \n",
       "No_valid_MSinceMostRecentInqexcl7days          0.000000    0.00000  \n",
       "No_valid_NetFractionRevolvingBurden            0.000000    0.00000  \n",
       "No_valid_NetFractionInstallBurden              0.000000    0.00000  \n",
       "No_valid_NumRevolvingTradesWBalance            0.000000    0.00000  \n",
       "No_valid_NumInstallTradesWBalance              0.000000    0.00000  \n",
       "No_valid_NumBank2NatlTradesWHighUtilization    0.000000    0.00000  \n",
       "No_MSinceMostRecentDelq                        1.000000    0.00000  \n",
       "No_MSinceMostRecentInqexcl7days                0.000000    1.00000  "
      ]
     },
     "execution_count": 9,
     "metadata": {},
     "output_type": "execute_result"
    }
   ],
   "source": [
    "# Load Imputed FICO HELOC data with indicator variables\n",
    "\n",
    "# dfTrain = read_csv(\"../data/train_imp.csv\")\n",
    "#del dfTrain['Unnamed: 0']\n",
    "\n",
    "#dfTest = read_csv(\"../data/test_imp.csv\")\n",
    "#del dfTest['Unnamed: 0']\n",
    "\n",
    "# Separate target variable\n",
    "#yTrain = dfTrain.pop('RiskPerformance')\n",
    "#yTest = dfTest.pop('RiskPerformance')\n",
    "\n",
    "#dfTrain.head().transpose()"
   ]
  },
  {
   "cell_type": "markdown",
   "metadata": {
    "id": "o21hiBG3eoog"
   },
   "source": [
    "# **Fit and Test Boolean Run Column Generation Model to Training Dataset**"
   ]
  },
  {
   "cell_type": "code",
   "execution_count": 11,
   "metadata": {
    "colab": {
     "base_uri": "https://localhost:8080/"
    },
    "id": "XT_oRLXSb7tZ",
    "outputId": "9cf22216-9261-4634-a23a-3135291bd32d"
   },
   "outputs": [
    {
     "name": "stdout",
     "output_type": "stream",
     "text": [
      "Learning CNF rule with complexity parameters lambda0=0.001, lambda1=0.001\n"
     ]
    },
    {
     "ename": "TypeError",
     "evalue": "unsupported operand type(s) for -: 'int' and 'str'",
     "output_type": "error",
     "traceback": [
      "\u001b[1;31m---------------------------------------------------------------------------\u001b[0m",
      "\u001b[1;31mTypeError\u001b[0m                                 Traceback (most recent call last)",
      "\u001b[1;32m~\\anaconda3\\lib\\site-packages\\pandas\\core\\ops\\array_ops.py\u001b[0m in \u001b[0;36m_na_arithmetic_op\u001b[1;34m(left, right, op, is_cmp)\u001b[0m\n\u001b[0;32m    165\u001b[0m     \u001b[1;32mtry\u001b[0m\u001b[1;33m:\u001b[0m\u001b[1;33m\u001b[0m\u001b[1;33m\u001b[0m\u001b[0m\n\u001b[1;32m--> 166\u001b[1;33m         \u001b[0mresult\u001b[0m \u001b[1;33m=\u001b[0m \u001b[0mfunc\u001b[0m\u001b[1;33m(\u001b[0m\u001b[0mleft\u001b[0m\u001b[1;33m,\u001b[0m \u001b[0mright\u001b[0m\u001b[1;33m)\u001b[0m\u001b[1;33m\u001b[0m\u001b[1;33m\u001b[0m\u001b[0m\n\u001b[0m\u001b[0;32m    167\u001b[0m     \u001b[1;32mexcept\u001b[0m \u001b[0mTypeError\u001b[0m\u001b[1;33m:\u001b[0m\u001b[1;33m\u001b[0m\u001b[1;33m\u001b[0m\u001b[0m\n",
      "\u001b[1;32m~\\anaconda3\\lib\\site-packages\\pandas\\core\\computation\\expressions.py\u001b[0m in \u001b[0;36mevaluate\u001b[1;34m(op, a, b, use_numexpr)\u001b[0m\n\u001b[0;32m    238\u001b[0m             \u001b[1;31m# error: \"None\" not callable\u001b[0m\u001b[1;33m\u001b[0m\u001b[1;33m\u001b[0m\u001b[1;33m\u001b[0m\u001b[0m\n\u001b[1;32m--> 239\u001b[1;33m             \u001b[1;32mreturn\u001b[0m \u001b[0m_evaluate\u001b[0m\u001b[1;33m(\u001b[0m\u001b[0mop\u001b[0m\u001b[1;33m,\u001b[0m \u001b[0mop_str\u001b[0m\u001b[1;33m,\u001b[0m \u001b[0ma\u001b[0m\u001b[1;33m,\u001b[0m \u001b[0mb\u001b[0m\u001b[1;33m)\u001b[0m  \u001b[1;31m# type: ignore[misc]\u001b[0m\u001b[1;33m\u001b[0m\u001b[1;33m\u001b[0m\u001b[0m\n\u001b[0m\u001b[0;32m    240\u001b[0m     \u001b[1;32mreturn\u001b[0m \u001b[0m_evaluate_standard\u001b[0m\u001b[1;33m(\u001b[0m\u001b[0mop\u001b[0m\u001b[1;33m,\u001b[0m \u001b[0mop_str\u001b[0m\u001b[1;33m,\u001b[0m \u001b[0ma\u001b[0m\u001b[1;33m,\u001b[0m \u001b[0mb\u001b[0m\u001b[1;33m)\u001b[0m\u001b[1;33m\u001b[0m\u001b[1;33m\u001b[0m\u001b[0m\n",
      "\u001b[1;32m~\\anaconda3\\lib\\site-packages\\pandas\\core\\computation\\expressions.py\u001b[0m in \u001b[0;36m_evaluate_numexpr\u001b[1;34m(op, op_str, a, b)\u001b[0m\n\u001b[0;32m    127\u001b[0m     \u001b[1;32mif\u001b[0m \u001b[0mresult\u001b[0m \u001b[1;32mis\u001b[0m \u001b[1;32mNone\u001b[0m\u001b[1;33m:\u001b[0m\u001b[1;33m\u001b[0m\u001b[1;33m\u001b[0m\u001b[0m\n\u001b[1;32m--> 128\u001b[1;33m         \u001b[0mresult\u001b[0m \u001b[1;33m=\u001b[0m \u001b[0m_evaluate_standard\u001b[0m\u001b[1;33m(\u001b[0m\u001b[0mop\u001b[0m\u001b[1;33m,\u001b[0m \u001b[0mop_str\u001b[0m\u001b[1;33m,\u001b[0m \u001b[0ma\u001b[0m\u001b[1;33m,\u001b[0m \u001b[0mb\u001b[0m\u001b[1;33m)\u001b[0m\u001b[1;33m\u001b[0m\u001b[1;33m\u001b[0m\u001b[0m\n\u001b[0m\u001b[0;32m    129\u001b[0m \u001b[1;33m\u001b[0m\u001b[0m\n",
      "\u001b[1;32m~\\anaconda3\\lib\\site-packages\\pandas\\core\\computation\\expressions.py\u001b[0m in \u001b[0;36m_evaluate_standard\u001b[1;34m(op, op_str, a, b)\u001b[0m\n\u001b[0;32m     68\u001b[0m         \u001b[0m_store_test_result\u001b[0m\u001b[1;33m(\u001b[0m\u001b[1;32mFalse\u001b[0m\u001b[1;33m)\u001b[0m\u001b[1;33m\u001b[0m\u001b[1;33m\u001b[0m\u001b[0m\n\u001b[1;32m---> 69\u001b[1;33m     \u001b[1;32mreturn\u001b[0m \u001b[0mop\u001b[0m\u001b[1;33m(\u001b[0m\u001b[0ma\u001b[0m\u001b[1;33m,\u001b[0m \u001b[0mb\u001b[0m\u001b[1;33m)\u001b[0m\u001b[1;33m\u001b[0m\u001b[1;33m\u001b[0m\u001b[0m\n\u001b[0m\u001b[0;32m     70\u001b[0m \u001b[1;33m\u001b[0m\u001b[0m\n",
      "\u001b[1;32m~\\anaconda3\\lib\\site-packages\\pandas\\core\\roperator.py\u001b[0m in \u001b[0;36mrsub\u001b[1;34m(left, right)\u001b[0m\n\u001b[0;32m     12\u001b[0m \u001b[1;32mdef\u001b[0m \u001b[0mrsub\u001b[0m\u001b[1;33m(\u001b[0m\u001b[0mleft\u001b[0m\u001b[1;33m,\u001b[0m \u001b[0mright\u001b[0m\u001b[1;33m)\u001b[0m\u001b[1;33m:\u001b[0m\u001b[1;33m\u001b[0m\u001b[1;33m\u001b[0m\u001b[0m\n\u001b[1;32m---> 13\u001b[1;33m     \u001b[1;32mreturn\u001b[0m \u001b[0mright\u001b[0m \u001b[1;33m-\u001b[0m \u001b[0mleft\u001b[0m\u001b[1;33m\u001b[0m\u001b[1;33m\u001b[0m\u001b[0m\n\u001b[0m\u001b[0;32m     14\u001b[0m \u001b[1;33m\u001b[0m\u001b[0m\n",
      "\u001b[1;31mTypeError\u001b[0m: unsupported operand type(s) for -: 'int' and 'str'",
      "\nDuring handling of the above exception, another exception occurred:\n",
      "\u001b[1;31mTypeError\u001b[0m                                 Traceback (most recent call last)",
      "\u001b[1;32m<ipython-input-11-fd48156b6dbb>\u001b[0m in \u001b[0;36m<module>\u001b[1;34m\u001b[0m\n\u001b[0;32m      9\u001b[0m \u001b[1;33m\u001b[0m\u001b[0m\n\u001b[0;32m     10\u001b[0m \u001b[1;31m# Train, print, and evaluate model\u001b[0m\u001b[1;33m\u001b[0m\u001b[1;33m\u001b[0m\u001b[1;33m\u001b[0m\u001b[0m\n\u001b[1;32m---> 11\u001b[1;33m \u001b[0mbr\u001b[0m\u001b[1;33m.\u001b[0m\u001b[0mfit\u001b[0m\u001b[1;33m(\u001b[0m\u001b[0mdfTrain\u001b[0m\u001b[1;33m,\u001b[0m \u001b[0myTrain\u001b[0m\u001b[1;33m)\u001b[0m\u001b[1;33m\u001b[0m\u001b[1;33m\u001b[0m\u001b[0m\n\u001b[0m\u001b[0;32m     12\u001b[0m \u001b[1;32mfrom\u001b[0m \u001b[0msklearn\u001b[0m\u001b[1;33m.\u001b[0m\u001b[0mmetrics\u001b[0m \u001b[1;32mimport\u001b[0m \u001b[0maccuracy_score\u001b[0m\u001b[1;33m\u001b[0m\u001b[1;33m\u001b[0m\u001b[0m\n\u001b[0;32m     13\u001b[0m \u001b[0mprint\u001b[0m\u001b[1;33m(\u001b[0m\u001b[1;34m'Training accuracy:'\u001b[0m\u001b[1;33m,\u001b[0m \u001b[0maccuracy_score\u001b[0m\u001b[1;33m(\u001b[0m\u001b[0myTrain\u001b[0m\u001b[1;33m,\u001b[0m \u001b[0mbr\u001b[0m\u001b[1;33m.\u001b[0m\u001b[0mpredict\u001b[0m\u001b[1;33m(\u001b[0m\u001b[0mdfTrain\u001b[0m\u001b[1;33m)\u001b[0m\u001b[1;33m)\u001b[0m\u001b[1;33m)\u001b[0m\u001b[1;33m\u001b[0m\u001b[1;33m\u001b[0m\u001b[0m\n",
      "\u001b[1;32m~\\anaconda3\\lib\\site-packages\\aix360\\algorithms\\rbm\\boolean_rule_cg.py\u001b[0m in \u001b[0;36mfit\u001b[1;34m(self, X, y)\u001b[0m\n\u001b[0;32m     78\u001b[0m         \u001b[1;32mif\u001b[0m \u001b[0mself\u001b[0m\u001b[1;33m.\u001b[0m\u001b[0mCNF\u001b[0m\u001b[1;33m:\u001b[0m\u001b[1;33m\u001b[0m\u001b[1;33m\u001b[0m\u001b[0m\n\u001b[0;32m     79\u001b[0m             \u001b[1;31m# Flip labels for CNF\u001b[0m\u001b[1;33m\u001b[0m\u001b[1;33m\u001b[0m\u001b[1;33m\u001b[0m\u001b[0m\n\u001b[1;32m---> 80\u001b[1;33m             \u001b[0my\u001b[0m \u001b[1;33m=\u001b[0m \u001b[1;36m1\u001b[0m \u001b[1;33m-\u001b[0m \u001b[0my\u001b[0m\u001b[1;33m\u001b[0m\u001b[1;33m\u001b[0m\u001b[0m\n\u001b[0m\u001b[0;32m     81\u001b[0m         \u001b[1;31m# Positive (y = 1) and negative (y = 0) samples\u001b[0m\u001b[1;33m\u001b[0m\u001b[1;33m\u001b[0m\u001b[1;33m\u001b[0m\u001b[0m\n\u001b[0;32m     82\u001b[0m         \u001b[0mP\u001b[0m \u001b[1;33m=\u001b[0m \u001b[0mnp\u001b[0m\u001b[1;33m.\u001b[0m\u001b[0mwhere\u001b[0m\u001b[1;33m(\u001b[0m\u001b[0my\u001b[0m \u001b[1;33m>\u001b[0m \u001b[1;36m0.5\u001b[0m\u001b[1;33m)\u001b[0m\u001b[1;33m[\u001b[0m\u001b[1;36m0\u001b[0m\u001b[1;33m]\u001b[0m\u001b[1;33m\u001b[0m\u001b[1;33m\u001b[0m\u001b[0m\n",
      "\u001b[1;32m~\\anaconda3\\lib\\site-packages\\pandas\\core\\ops\\common.py\u001b[0m in \u001b[0;36mnew_method\u001b[1;34m(self, other)\u001b[0m\n\u001b[0;32m     67\u001b[0m         \u001b[0mother\u001b[0m \u001b[1;33m=\u001b[0m \u001b[0mitem_from_zerodim\u001b[0m\u001b[1;33m(\u001b[0m\u001b[0mother\u001b[0m\u001b[1;33m)\u001b[0m\u001b[1;33m\u001b[0m\u001b[1;33m\u001b[0m\u001b[0m\n\u001b[0;32m     68\u001b[0m \u001b[1;33m\u001b[0m\u001b[0m\n\u001b[1;32m---> 69\u001b[1;33m         \u001b[1;32mreturn\u001b[0m \u001b[0mmethod\u001b[0m\u001b[1;33m(\u001b[0m\u001b[0mself\u001b[0m\u001b[1;33m,\u001b[0m \u001b[0mother\u001b[0m\u001b[1;33m)\u001b[0m\u001b[1;33m\u001b[0m\u001b[1;33m\u001b[0m\u001b[0m\n\u001b[0m\u001b[0;32m     70\u001b[0m \u001b[1;33m\u001b[0m\u001b[0m\n\u001b[0;32m     71\u001b[0m     \u001b[1;32mreturn\u001b[0m \u001b[0mnew_method\u001b[0m\u001b[1;33m\u001b[0m\u001b[1;33m\u001b[0m\u001b[0m\n",
      "\u001b[1;32m~\\anaconda3\\lib\\site-packages\\pandas\\core\\arraylike.py\u001b[0m in \u001b[0;36m__rsub__\u001b[1;34m(self, other)\u001b[0m\n\u001b[0;32m    102\u001b[0m     \u001b[1;33m@\u001b[0m\u001b[0munpack_zerodim_and_defer\u001b[0m\u001b[1;33m(\u001b[0m\u001b[1;34m\"__rsub__\"\u001b[0m\u001b[1;33m)\u001b[0m\u001b[1;33m\u001b[0m\u001b[1;33m\u001b[0m\u001b[0m\n\u001b[0;32m    103\u001b[0m     \u001b[1;32mdef\u001b[0m \u001b[0m__rsub__\u001b[0m\u001b[1;33m(\u001b[0m\u001b[0mself\u001b[0m\u001b[1;33m,\u001b[0m \u001b[0mother\u001b[0m\u001b[1;33m)\u001b[0m\u001b[1;33m:\u001b[0m\u001b[1;33m\u001b[0m\u001b[1;33m\u001b[0m\u001b[0m\n\u001b[1;32m--> 104\u001b[1;33m         \u001b[1;32mreturn\u001b[0m \u001b[0mself\u001b[0m\u001b[1;33m.\u001b[0m\u001b[0m_arith_method\u001b[0m\u001b[1;33m(\u001b[0m\u001b[0mother\u001b[0m\u001b[1;33m,\u001b[0m \u001b[0mroperator\u001b[0m\u001b[1;33m.\u001b[0m\u001b[0mrsub\u001b[0m\u001b[1;33m)\u001b[0m\u001b[1;33m\u001b[0m\u001b[1;33m\u001b[0m\u001b[0m\n\u001b[0m\u001b[0;32m    105\u001b[0m \u001b[1;33m\u001b[0m\u001b[0m\n\u001b[0;32m    106\u001b[0m     \u001b[1;33m@\u001b[0m\u001b[0munpack_zerodim_and_defer\u001b[0m\u001b[1;33m(\u001b[0m\u001b[1;34m\"__mul__\"\u001b[0m\u001b[1;33m)\u001b[0m\u001b[1;33m\u001b[0m\u001b[1;33m\u001b[0m\u001b[0m\n",
      "\u001b[1;32m~\\anaconda3\\lib\\site-packages\\pandas\\core\\series.py\u001b[0m in \u001b[0;36m_arith_method\u001b[1;34m(self, other, op)\u001b[0m\n\u001b[0;32m   5524\u001b[0m \u001b[1;33m\u001b[0m\u001b[0m\n\u001b[0;32m   5525\u001b[0m         \u001b[1;32mwith\u001b[0m \u001b[0mnp\u001b[0m\u001b[1;33m.\u001b[0m\u001b[0merrstate\u001b[0m\u001b[1;33m(\u001b[0m\u001b[0mall\u001b[0m\u001b[1;33m=\u001b[0m\u001b[1;34m\"ignore\"\u001b[0m\u001b[1;33m)\u001b[0m\u001b[1;33m:\u001b[0m\u001b[1;33m\u001b[0m\u001b[1;33m\u001b[0m\u001b[0m\n\u001b[1;32m-> 5526\u001b[1;33m             \u001b[0mresult\u001b[0m \u001b[1;33m=\u001b[0m \u001b[0mops\u001b[0m\u001b[1;33m.\u001b[0m\u001b[0marithmetic_op\u001b[0m\u001b[1;33m(\u001b[0m\u001b[0mlvalues\u001b[0m\u001b[1;33m,\u001b[0m \u001b[0mrvalues\u001b[0m\u001b[1;33m,\u001b[0m \u001b[0mop\u001b[0m\u001b[1;33m)\u001b[0m\u001b[1;33m\u001b[0m\u001b[1;33m\u001b[0m\u001b[0m\n\u001b[0m\u001b[0;32m   5527\u001b[0m \u001b[1;33m\u001b[0m\u001b[0m\n\u001b[0;32m   5528\u001b[0m         \u001b[1;32mreturn\u001b[0m \u001b[0mself\u001b[0m\u001b[1;33m.\u001b[0m\u001b[0m_construct_result\u001b[0m\u001b[1;33m(\u001b[0m\u001b[0mresult\u001b[0m\u001b[1;33m,\u001b[0m \u001b[0mname\u001b[0m\u001b[1;33m=\u001b[0m\u001b[0mres_name\u001b[0m\u001b[1;33m)\u001b[0m\u001b[1;33m\u001b[0m\u001b[1;33m\u001b[0m\u001b[0m\n",
      "\u001b[1;32m~\\anaconda3\\lib\\site-packages\\pandas\\core\\ops\\array_ops.py\u001b[0m in \u001b[0;36marithmetic_op\u001b[1;34m(left, right, op)\u001b[0m\n\u001b[0;32m    222\u001b[0m         \u001b[0m_bool_arith_check\u001b[0m\u001b[1;33m(\u001b[0m\u001b[0mop\u001b[0m\u001b[1;33m,\u001b[0m \u001b[0mleft\u001b[0m\u001b[1;33m,\u001b[0m \u001b[0mright\u001b[0m\u001b[1;33m)\u001b[0m\u001b[1;33m\u001b[0m\u001b[1;33m\u001b[0m\u001b[0m\n\u001b[0;32m    223\u001b[0m \u001b[1;33m\u001b[0m\u001b[0m\n\u001b[1;32m--> 224\u001b[1;33m         \u001b[0mres_values\u001b[0m \u001b[1;33m=\u001b[0m \u001b[0m_na_arithmetic_op\u001b[0m\u001b[1;33m(\u001b[0m\u001b[0mleft\u001b[0m\u001b[1;33m,\u001b[0m \u001b[0mright\u001b[0m\u001b[1;33m,\u001b[0m \u001b[0mop\u001b[0m\u001b[1;33m)\u001b[0m\u001b[1;33m\u001b[0m\u001b[1;33m\u001b[0m\u001b[0m\n\u001b[0m\u001b[0;32m    225\u001b[0m \u001b[1;33m\u001b[0m\u001b[0m\n\u001b[0;32m    226\u001b[0m     \u001b[1;32mreturn\u001b[0m \u001b[0mres_values\u001b[0m\u001b[1;33m\u001b[0m\u001b[1;33m\u001b[0m\u001b[0m\n",
      "\u001b[1;32m~\\anaconda3\\lib\\site-packages\\pandas\\core\\ops\\array_ops.py\u001b[0m in \u001b[0;36m_na_arithmetic_op\u001b[1;34m(left, right, op, is_cmp)\u001b[0m\n\u001b[0;32m    171\u001b[0m             \u001b[1;31m# Don't do this for comparisons, as that will handle complex numbers\u001b[0m\u001b[1;33m\u001b[0m\u001b[1;33m\u001b[0m\u001b[1;33m\u001b[0m\u001b[0m\n\u001b[0;32m    172\u001b[0m             \u001b[1;31m#  incorrectly, see GH#32047\u001b[0m\u001b[1;33m\u001b[0m\u001b[1;33m\u001b[0m\u001b[1;33m\u001b[0m\u001b[0m\n\u001b[1;32m--> 173\u001b[1;33m             \u001b[0mresult\u001b[0m \u001b[1;33m=\u001b[0m \u001b[0m_masked_arith_op\u001b[0m\u001b[1;33m(\u001b[0m\u001b[0mleft\u001b[0m\u001b[1;33m,\u001b[0m \u001b[0mright\u001b[0m\u001b[1;33m,\u001b[0m \u001b[0mop\u001b[0m\u001b[1;33m)\u001b[0m\u001b[1;33m\u001b[0m\u001b[1;33m\u001b[0m\u001b[0m\n\u001b[0m\u001b[0;32m    174\u001b[0m         \u001b[1;32melse\u001b[0m\u001b[1;33m:\u001b[0m\u001b[1;33m\u001b[0m\u001b[1;33m\u001b[0m\u001b[0m\n\u001b[0;32m    175\u001b[0m             \u001b[1;32mraise\u001b[0m\u001b[1;33m\u001b[0m\u001b[1;33m\u001b[0m\u001b[0m\n",
      "\u001b[1;32m~\\anaconda3\\lib\\site-packages\\pandas\\core\\ops\\array_ops.py\u001b[0m in \u001b[0;36m_masked_arith_op\u001b[1;34m(x, y, op)\u001b[0m\n\u001b[0;32m    129\u001b[0m \u001b[1;33m\u001b[0m\u001b[0m\n\u001b[0;32m    130\u001b[0m         \u001b[1;32mif\u001b[0m \u001b[0mmask\u001b[0m\u001b[1;33m.\u001b[0m\u001b[0many\u001b[0m\u001b[1;33m(\u001b[0m\u001b[1;33m)\u001b[0m\u001b[1;33m:\u001b[0m\u001b[1;33m\u001b[0m\u001b[1;33m\u001b[0m\u001b[0m\n\u001b[1;32m--> 131\u001b[1;33m             \u001b[0mresult\u001b[0m\u001b[1;33m[\u001b[0m\u001b[0mmask\u001b[0m\u001b[1;33m]\u001b[0m \u001b[1;33m=\u001b[0m \u001b[0mop\u001b[0m\u001b[1;33m(\u001b[0m\u001b[0mxrav\u001b[0m\u001b[1;33m[\u001b[0m\u001b[0mmask\u001b[0m\u001b[1;33m]\u001b[0m\u001b[1;33m,\u001b[0m \u001b[0my\u001b[0m\u001b[1;33m)\u001b[0m\u001b[1;33m\u001b[0m\u001b[1;33m\u001b[0m\u001b[0m\n\u001b[0m\u001b[0;32m    132\u001b[0m \u001b[1;33m\u001b[0m\u001b[0m\n\u001b[0;32m    133\u001b[0m     \u001b[0mnp\u001b[0m\u001b[1;33m.\u001b[0m\u001b[0mputmask\u001b[0m\u001b[1;33m(\u001b[0m\u001b[0mresult\u001b[0m\u001b[1;33m,\u001b[0m \u001b[1;33m~\u001b[0m\u001b[0mmask\u001b[0m\u001b[1;33m,\u001b[0m \u001b[0mnp\u001b[0m\u001b[1;33m.\u001b[0m\u001b[0mnan\u001b[0m\u001b[1;33m)\u001b[0m\u001b[1;33m\u001b[0m\u001b[1;33m\u001b[0m\u001b[0m\n",
      "\u001b[1;32m~\\anaconda3\\lib\\site-packages\\pandas\\core\\roperator.py\u001b[0m in \u001b[0;36mrsub\u001b[1;34m(left, right)\u001b[0m\n\u001b[0;32m     11\u001b[0m \u001b[1;33m\u001b[0m\u001b[0m\n\u001b[0;32m     12\u001b[0m \u001b[1;32mdef\u001b[0m \u001b[0mrsub\u001b[0m\u001b[1;33m(\u001b[0m\u001b[0mleft\u001b[0m\u001b[1;33m,\u001b[0m \u001b[0mright\u001b[0m\u001b[1;33m)\u001b[0m\u001b[1;33m:\u001b[0m\u001b[1;33m\u001b[0m\u001b[1;33m\u001b[0m\u001b[0m\n\u001b[1;32m---> 13\u001b[1;33m     \u001b[1;32mreturn\u001b[0m \u001b[0mright\u001b[0m \u001b[1;33m-\u001b[0m \u001b[0mleft\u001b[0m\u001b[1;33m\u001b[0m\u001b[1;33m\u001b[0m\u001b[0m\n\u001b[0m\u001b[0;32m     14\u001b[0m \u001b[1;33m\u001b[0m\u001b[0m\n\u001b[0;32m     15\u001b[0m \u001b[1;33m\u001b[0m\u001b[0m\n",
      "\u001b[1;31mTypeError\u001b[0m: unsupported operand type(s) for -: 'int' and 'str'"
     ]
    }
   ],
   "source": [
    "# Instantiate BRCG with small complexity penalty and large beam search width\n",
    "from aix360.algorithms.rbm import BooleanRuleCG\n",
    "# The model complexity parameters lambda0 and lambda1 penalize the number of clauses in the\n",
    "#rule and the number of conditions in each clause. \n",
    "# We use the default values of 1e-3 for lambda0 and lambda1 \n",
    "#(decreasing them did not increase accuracy here) and leave other parameters at their defaults as well. \n",
    "# The model is then trained, evaluated, and printed.\n",
    "br = BooleanRuleCG(lambda0=1e-3, lambda1=1e-3, CNF=True)\n",
    "\n",
    "# Train, print, and evaluate model\n",
    "br.fit(dfTrain, yTrain)\n",
    "from sklearn.metrics import accuracy_score\n",
    "print('Training accuracy:', accuracy_score(yTrain, br.predict(dfTrain)))\n",
    "print('Test accuracy:', accuracy_score(yTest, br.predict(dfTest)))\n",
    "print('Predict Y=0 if ANY of the following rules are satisfied, otherwise Y=1:')\n",
    "print(br.explain()['rules'])"
   ]
  },
  {
   "cell_type": "markdown",
   "metadata": {
    "id": "HrledKqhkB1k"
   },
   "source": [
    "Here, ExternalRiskEstimate reprsents consolidated version of risk markers(higher is better)and NumSatisfactoryTrades represents number of satisfactory credit accounts. If the value of y is a \"1\" then the person defaulted on the loan. If the value is a \"0\" then the person paid back the loan. Point to be noted that with these two clauses including the same features, we are able to generate a pretty decent accuracy of 69.65%\n"
   ]
  },
  {
   "cell_type": "markdown",
   "metadata": {
    "id": "vDbglFVMnReT"
   },
   "source": [
    "# **Fit and test Logistic Rule Regression(LogRR) on training data.**"
   ]
  },
  {
   "cell_type": "code",
   "execution_count": null,
   "metadata": {
    "colab": {
     "base_uri": "https://localhost:8080/",
     "height": 1000
    },
    "id": "RuPoDxQofX-h",
    "outputId": "85dd0e23-cbb7-40ab-ee84-03b2576f24ae"
   },
   "outputs": [
    {
     "name": "stdout",
     "output_type": "stream",
     "text": [
      "Training accuracy: 0.742536809401594\n",
      "Test accuracy: 0.7260940032414911\n",
      "Probability of Y=1 is predicted as logistic(z) = 1 / (1 + exp(-z))\n",
      "where z is a linear combination of the following rules/numerical features:\n"
     ]
    },
    {
     "data": {
      "text/html": [
       "<div>\n",
       "<style scoped>\n",
       "    .dataframe tbody tr th:only-of-type {\n",
       "        vertical-align: middle;\n",
       "    }\n",
       "\n",
       "    .dataframe tbody tr th {\n",
       "        vertical-align: top;\n",
       "    }\n",
       "\n",
       "    .dataframe thead th {\n",
       "        text-align: right;\n",
       "    }\n",
       "</style>\n",
       "<table border=\"1\" class=\"dataframe\">\n",
       "  <thead>\n",
       "    <tr style=\"text-align: right;\">\n",
       "      <th></th>\n",
       "      <th>rule/numerical feature</th>\n",
       "      <th>coefficient</th>\n",
       "    </tr>\n",
       "  </thead>\n",
       "  <tbody>\n",
       "    <tr>\n",
       "      <th>0</th>\n",
       "      <td>(intercept)</td>\n",
       "      <td>-0.129974</td>\n",
       "    </tr>\n",
       "    <tr>\n",
       "      <th>1</th>\n",
       "      <td>MSinceMostRecentInqexcl7days &gt; 0.00</td>\n",
       "      <td>0.680261</td>\n",
       "    </tr>\n",
       "    <tr>\n",
       "      <th>2</th>\n",
       "      <td>ExternalRiskEstimate</td>\n",
       "      <td>0.654146</td>\n",
       "    </tr>\n",
       "    <tr>\n",
       "      <th>3</th>\n",
       "      <td>NetFractionRevolvingBurden</td>\n",
       "      <td>-0.554051</td>\n",
       "    </tr>\n",
       "    <tr>\n",
       "      <th>4</th>\n",
       "      <td>NumSatisfactoryTrades</td>\n",
       "      <td>0.551645</td>\n",
       "    </tr>\n",
       "    <tr>\n",
       "      <th>5</th>\n",
       "      <td>NumInqLast6M</td>\n",
       "      <td>-0.463184</td>\n",
       "    </tr>\n",
       "    <tr>\n",
       "      <th>6</th>\n",
       "      <td>NumBank2NatlTradesWHighUtilization</td>\n",
       "      <td>-0.448343</td>\n",
       "    </tr>\n",
       "    <tr>\n",
       "      <th>7</th>\n",
       "      <td>AverageMInFile &lt;= 52.00</td>\n",
       "      <td>-0.434367</td>\n",
       "    </tr>\n",
       "    <tr>\n",
       "      <th>8</th>\n",
       "      <td>NumRevolvingTradesWBalance &lt;= 5.00</td>\n",
       "      <td>0.421539</td>\n",
       "    </tr>\n",
       "    <tr>\n",
       "      <th>9</th>\n",
       "      <td>MaxDelq2PublicRecLast12M &lt;= 5.00</td>\n",
       "      <td>-0.41816</td>\n",
       "    </tr>\n",
       "    <tr>\n",
       "      <th>10</th>\n",
       "      <td>PercentInstallTrades &gt; 50.00</td>\n",
       "      <td>-0.317578</td>\n",
       "    </tr>\n",
       "    <tr>\n",
       "      <th>11</th>\n",
       "      <td>NumSatisfactoryTrades &lt;= 12.00</td>\n",
       "      <td>-0.312482</td>\n",
       "    </tr>\n",
       "    <tr>\n",
       "      <th>12</th>\n",
       "      <td>MSinceMostRecentDelq &lt;= 21.00</td>\n",
       "      <td>-0.301572</td>\n",
       "    </tr>\n",
       "    <tr>\n",
       "      <th>13</th>\n",
       "      <td>PercentTradesNeverDelq &lt;= 95.00</td>\n",
       "      <td>-0.273936</td>\n",
       "    </tr>\n",
       "    <tr>\n",
       "      <th>14</th>\n",
       "      <td>ExternalRiskEstimate &gt; 75.00</td>\n",
       "      <td>0.263462</td>\n",
       "    </tr>\n",
       "    <tr>\n",
       "      <th>15</th>\n",
       "      <td>AverageMInFile &lt;= 84.00</td>\n",
       "      <td>-0.182131</td>\n",
       "    </tr>\n",
       "    <tr>\n",
       "      <th>16</th>\n",
       "      <td>PercentInstallTrades &gt; 42.00</td>\n",
       "      <td>-0.174359</td>\n",
       "    </tr>\n",
       "    <tr>\n",
       "      <th>17</th>\n",
       "      <td>PercentTradesNeverDelq</td>\n",
       "      <td>0.16653</td>\n",
       "    </tr>\n",
       "    <tr>\n",
       "      <th>18</th>\n",
       "      <td>AverageMInFile</td>\n",
       "      <td>0.15069</td>\n",
       "    </tr>\n",
       "    <tr>\n",
       "      <th>19</th>\n",
       "      <td>NumBank2NatlTradesWHighUtilization &lt;= 0.00</td>\n",
       "      <td>0.135389</td>\n",
       "    </tr>\n",
       "    <tr>\n",
       "      <th>20</th>\n",
       "      <td>MSinceOldestTradeOpen &lt;= 122.00</td>\n",
       "      <td>-0.132496</td>\n",
       "    </tr>\n",
       "    <tr>\n",
       "      <th>21</th>\n",
       "      <td>PercentTradesNeverDelq &lt;= 91.00</td>\n",
       "      <td>-0.11771</td>\n",
       "    </tr>\n",
       "    <tr>\n",
       "      <th>22</th>\n",
       "      <td>NumSatisfactoryTrades &lt;= 17.00</td>\n",
       "      <td>-0.110226</td>\n",
       "    </tr>\n",
       "    <tr>\n",
       "      <th>23</th>\n",
       "      <td>ExternalRiskEstimate &gt; 72.00</td>\n",
       "      <td>0.107619</td>\n",
       "    </tr>\n",
       "    <tr>\n",
       "      <th>24</th>\n",
       "      <td>NumInqLast6M &lt;= 0.00</td>\n",
       "      <td>0.0994098</td>\n",
       "    </tr>\n",
       "    <tr>\n",
       "      <th>25</th>\n",
       "      <td>MSinceOldestTradeOpen &lt;= 146.00</td>\n",
       "      <td>-0.0966426</td>\n",
       "    </tr>\n",
       "    <tr>\n",
       "      <th>26</th>\n",
       "      <td>MSinceMostRecentInqexcl7days &lt;= 0.00</td>\n",
       "      <td>-0.0900515</td>\n",
       "    </tr>\n",
       "    <tr>\n",
       "      <th>27</th>\n",
       "      <td>AverageMInFile &lt;= 61.00</td>\n",
       "      <td>-0.07947</td>\n",
       "    </tr>\n",
       "    <tr>\n",
       "      <th>28</th>\n",
       "      <td>AverageMInFile &lt;= 76.00</td>\n",
       "      <td>-0.0722768</td>\n",
       "    </tr>\n",
       "    <tr>\n",
       "      <th>29</th>\n",
       "      <td>PercentInstallTrades &lt;= 42.00</td>\n",
       "      <td>0.0660474</td>\n",
       "    </tr>\n",
       "    <tr>\n",
       "      <th>30</th>\n",
       "      <td>NetFractionRevolvingBurden &lt;= 39.00</td>\n",
       "      <td>0.0627674</td>\n",
       "    </tr>\n",
       "    <tr>\n",
       "      <th>31</th>\n",
       "      <td>MSinceOldestTradeOpen &gt; 122.00</td>\n",
       "      <td>0.0603685</td>\n",
       "    </tr>\n",
       "    <tr>\n",
       "      <th>32</th>\n",
       "      <td>NetFractionRevolvingBurden &lt;= 50.00</td>\n",
       "      <td>0.0455775</td>\n",
       "    </tr>\n",
       "    <tr>\n",
       "      <th>33</th>\n",
       "      <td>MSinceOldestTradeOpen</td>\n",
       "      <td>0.0421242</td>\n",
       "    </tr>\n",
       "    <tr>\n",
       "      <th>34</th>\n",
       "      <td>ExternalRiskEstimate &gt; 69.00</td>\n",
       "      <td>0.0354387</td>\n",
       "    </tr>\n",
       "    <tr>\n",
       "      <th>35</th>\n",
       "      <td>PercentTradesWBalance &lt;= 73.00</td>\n",
       "      <td>-0.0345463</td>\n",
       "    </tr>\n",
       "    <tr>\n",
       "      <th>36</th>\n",
       "      <td>MSinceOldestTradeOpen &gt; 146.00</td>\n",
       "      <td>0.0245152</td>\n",
       "    </tr>\n",
       "  </tbody>\n",
       "</table>\n",
       "</div>"
      ],
      "text/plain": [
       "                        rule/numerical feature coefficient\n",
       "0                                  (intercept)   -0.129974\n",
       "1          MSinceMostRecentInqexcl7days > 0.00    0.680261\n",
       "2                         ExternalRiskEstimate    0.654146\n",
       "3                   NetFractionRevolvingBurden   -0.554051\n",
       "4                        NumSatisfactoryTrades    0.551645\n",
       "5                                 NumInqLast6M   -0.463184\n",
       "6           NumBank2NatlTradesWHighUtilization   -0.448343\n",
       "7                      AverageMInFile <= 52.00   -0.434367\n",
       "8           NumRevolvingTradesWBalance <= 5.00    0.421539\n",
       "9             MaxDelq2PublicRecLast12M <= 5.00    -0.41816\n",
       "10                PercentInstallTrades > 50.00   -0.317578\n",
       "11              NumSatisfactoryTrades <= 12.00   -0.312482\n",
       "12               MSinceMostRecentDelq <= 21.00   -0.301572\n",
       "13             PercentTradesNeverDelq <= 95.00   -0.273936\n",
       "14                ExternalRiskEstimate > 75.00    0.263462\n",
       "15                     AverageMInFile <= 84.00   -0.182131\n",
       "16                PercentInstallTrades > 42.00   -0.174359\n",
       "17                      PercentTradesNeverDelq     0.16653\n",
       "18                              AverageMInFile     0.15069\n",
       "19  NumBank2NatlTradesWHighUtilization <= 0.00    0.135389\n",
       "20             MSinceOldestTradeOpen <= 122.00   -0.132496\n",
       "21             PercentTradesNeverDelq <= 91.00    -0.11771\n",
       "22              NumSatisfactoryTrades <= 17.00   -0.110226\n",
       "23                ExternalRiskEstimate > 72.00    0.107619\n",
       "24                        NumInqLast6M <= 0.00   0.0994098\n",
       "25             MSinceOldestTradeOpen <= 146.00  -0.0966426\n",
       "26        MSinceMostRecentInqexcl7days <= 0.00  -0.0900515\n",
       "27                     AverageMInFile <= 61.00    -0.07947\n",
       "28                     AverageMInFile <= 76.00  -0.0722768\n",
       "29               PercentInstallTrades <= 42.00   0.0660474\n",
       "30         NetFractionRevolvingBurden <= 39.00   0.0627674\n",
       "31              MSinceOldestTradeOpen > 122.00   0.0603685\n",
       "32         NetFractionRevolvingBurden <= 50.00   0.0455775\n",
       "33                       MSinceOldestTradeOpen   0.0421242\n",
       "34                ExternalRiskEstimate > 69.00   0.0354387\n",
       "35              PercentTradesWBalance <= 73.00  -0.0345463\n",
       "36              MSinceOldestTradeOpen > 146.00   0.0245152"
      ]
     },
     "execution_count": 15,
     "metadata": {
      "tags": []
     },
     "output_type": "execute_result"
    }
   ],
   "source": [
    "# Instantiate LRR with good complexity penalties and numerical features\n",
    "from aix360.algorithms.rbm import LogisticRuleRegression\n",
    "# Here we are also including unbinarized ordinal features (useOrd=True) in addition to rules. \n",
    "# Similar to BRCG, the complexity parameters lambda0, lambda1 penalize the number of rules included in the model and the number of conditions in each rule. \n",
    "# The values for lambda0, lambda1 below strike a good balance between accuracy and model complexity.\n",
    "\n",
    "lrr = LogisticRuleRegression(lambda0=0.005, lambda1=0.001, useOrd=True)\n",
    "\n",
    "# Train, print, and evaluate model\n",
    "lrr.fit(dfTrain, yTrain, dfTrainStd)\n",
    "print('Training accuracy:', accuracy_score(yTrain, lrr.predict(dfTrain, dfTrainStd)))\n",
    "print('Test accuracy:', accuracy_score(yTest, lrr.predict(dfTest, dfTestStd)))\n",
    "print('Probability of Y=1 is predicted as logistic(z) = 1 / (1 + exp(-z))')\n",
    "print('where z is a linear combination of the following rules/numerical features:')\n",
    "lrr.explain()"
   ]
  },
  {
   "cell_type": "markdown",
   "metadata": {
    "id": "8yqB0WpTyzro"
   },
   "source": [
    "# **Visualize LogRR model as a Generalized Additive Model (GAM)**"
   ]
  },
  {
   "cell_type": "code",
   "execution_count": null,
   "metadata": {
    "colab": {
     "base_uri": "https://localhost:8080/"
    },
    "id": "yTXsLCDdui2H",
    "outputId": "8e75d0df-f1af-4741-9978-c83d457df256"
   },
   "outputs": [
    {
     "data": {
      "text/plain": [
       "15"
      ]
     },
     "execution_count": 16,
     "metadata": {
      "tags": []
     },
     "output_type": "execute_result"
    }
   ],
   "source": [
    "dfx = lrr.explain()\n",
    "# Separate 1st-degree rules into (feature, operation, value) to count unique features\n",
    "dfx2 = dfx['rule/numerical feature'].str.split(' ', expand=True)\n",
    "dfx2.columns = ['feature','operation','value']\n",
    "dfx2['feature'].nunique() # includes intercept"
   ]
  },
  {
   "cell_type": "markdown",
   "metadata": {
    "id": "ocmGNzIPzKgS"
   },
   "source": [
    "It follows that there are 14(excluding intercept) functions to plot, which we organize into semantic groups below to ease interpretation.\n"
   ]
  },
  {
   "cell_type": "markdown",
   "metadata": {
    "id": "kh6x4xHx0lqy"
   },
   "source": [
    "### **1. ExternalRiskEstimate**\n",
    "As  shown above in BRCG model, 'ExternalRiskEstimate' is positively related with good credit risk. The sudden hike in plot at 72, is additional to it."
   ]
  },
  {
   "cell_type": "code",
   "execution_count": null,
   "metadata": {
    "colab": {
     "base_uri": "https://localhost:8080/",
     "height": 279
    },
    "id": "wB8oWp-NzHQE",
    "outputId": "5b6d5ed4-8b62-4a26-cbbe-61b0bd4a8814"
   },
   "outputs": [
    {
     "data": {
      "image/png": "[encoded data removed]",
      "text/plain": [
       "<Figure size 432x288 with 1 Axes>"
      ]
     },
     "metadata": {
      "needs_background": "light",
      "tags": []
     },
     "output_type": "display_data"
    }
   ],
   "source": [
    "lrr.visualize(data, fb, ['ExternalRiskEstimate']);"
   ]
  },
  {
   "cell_type": "markdown",
   "metadata": {
    "id": "NSJv91vj1EBH"
   },
   "source": [
    "### **2. Credit inquiries**\n",
    "The next two plots illustrate the dependence on the applicant's credit inquiries. \n",
    "\n",
    "\n",
    "\n",
    "The first plot shows a significant penalty for having less than one month since the most recent inquiry ('MSinceMostRecentInqexcl7days' = 0).\n"
   ]
  },
  {
   "cell_type": "code",
   "execution_count": null,
   "metadata": {
    "colab": {
     "base_uri": "https://localhost:8080/",
     "height": 279
    },
    "id": "P_jNy-dx0uqU",
    "outputId": "1b3170ba-fe00-43bd-ba4e-daa433a34406"
   },
   "outputs": [
    {
     "data": {
      "image/png": "[encoded data removed]",
      "text/plain": [
       "<Figure size 432x288 with 1 Axes>"
      ]
     },
     "metadata": {
      "needs_background": "light",
      "tags": []
     },
     "output_type": "display_data"
    }
   ],
   "source": [
    "lrr.visualize(data, fb, ['MSinceMostRecentInqexcl7days']);"
   ]
  },
  {
   "cell_type": "markdown",
   "metadata": {
    "id": "oQDwfZ9h1OF5"
   },
   "source": [
    "\n",
    "\n",
    "The second shows that predicted risk increases with the number of inquiries in the last six months ('NumInqLast6M').\n",
    "\n"
   ]
  },
  {
   "cell_type": "code",
   "execution_count": null,
   "metadata": {
    "colab": {
     "base_uri": "https://localhost:8080/",
     "height": 279
    },
    "id": "wxdGb1PP1Mfp",
    "outputId": "04d3596a-4789-4419-f146-d4fc96596710"
   },
   "outputs": [
    {
     "data": {
      "image/png": "[encoded data removed]",
      "text/plain": [
       "<Figure size 432x288 with 1 Axes>"
      ]
     },
     "metadata": {
      "needs_background": "light",
      "tags": []
     },
     "output_type": "display_data"
    }
   ],
   "source": [
    "lrr.visualize(data, fb, ['NumInqLast6M']);"
   ]
  },
  {
   "cell_type": "markdown",
   "metadata": {
    "id": "GsL28P311S8e"
   },
   "source": [
    "### **3. Debt Level**\n",
    "\n",
    "The following four plots relate to the applicant's debt level. \n",
    "\n",
    "'NetFractionRevolvingBurden' is revolving balance divided by the credit limit and is negatively correlated with probability of good credit."
   ]
  },
  {
   "cell_type": "code",
   "execution_count": null,
   "metadata": {
    "colab": {
     "base_uri": "https://localhost:8080/",
     "height": 279
    },
    "id": "Wu-WWIBl1Qnk",
    "outputId": "b08a9128-26ea-4132-8150-7423a0d33b10"
   },
   "outputs": [
    {
     "data": {
      "image/png": "[encoded data removed]",
      "text/plain": [
       "<Figure size 432x288 with 1 Axes>"
      ]
     },
     "metadata": {
      "needs_background": "light",
      "tags": []
     },
     "output_type": "display_data"
    }
   ],
   "source": [
    "lrr.visualize(data, fb, ['NetFractionRevolvingBurden']);"
   ]
  },
  {
   "cell_type": "markdown",
   "metadata": {
    "id": "BNeXC0QY1soF"
   },
   "source": [
    "The second 'NumBank2NatlTradesWHighUtilization' plot shows that the number of accounts (\"trades\") with high utilization (high balance relative to credit limit for each account) also has a large negative impact, with a drop as soon as one account has high utilization."
   ]
  },
  {
   "cell_type": "code",
   "execution_count": null,
   "metadata": {
    "colab": {
     "base_uri": "https://localhost:8080/",
     "height": 279
    },
    "id": "7Z03Z3Sp1q4U",
    "outputId": "13e1b385-1465-4a2c-cb53-0176840d33ec"
   },
   "outputs": [
    {
     "data": {
      "image/png": "[encoded data removed]",
      "text/plain": [
       "<Figure size 432x288 with 1 Axes>"
      ]
     },
     "metadata": {
      "needs_background": "light",
      "tags": []
     },
     "output_type": "display_data"
    }
   ],
   "source": [
    "lrr.visualize(data, fb, ['NumBank2NatlTradesWHighUtilization']);"
   ]
  },
  {
   "cell_type": "markdown",
   "metadata": {
    "id": "1h-wzxFG1xZt"
   },
   "source": [
    "\n",
    "\n",
    "The third plot shows that the model gives a bonus to applicants who carry balances on no more than five revolving debt accounts.\n"
   ]
  },
  {
   "cell_type": "code",
   "execution_count": null,
   "metadata": {
    "colab": {
     "base_uri": "https://localhost:8080/",
     "height": 279
    },
    "id": "hDjll6Wu1vh_",
    "outputId": "cad536c6-574a-415e-ac42-a9d4addb8512"
   },
   "outputs": [
    {
     "data": {
      "image/png": "[encoded data removed]",
      "text/plain": [
       "<Figure size 432x288 with 1 Axes>"
      ]
     },
     "metadata": {
      "needs_background": "light",
      "tags": []
     },
     "output_type": "display_data"
    }
   ],
   "source": [
    "lrr.visualize(data, fb, ['NumRevolvingTradesWBalance']);"
   ]
  },
  {
   "cell_type": "markdown",
   "metadata": {
    "id": "XW5LbwV215v6"
   },
   "source": [
    "\n",
    "\n",
    "The fourth shows an effect from the percentage of accounts with a balance that is much smaller than those from other features.\n"
   ]
  },
  {
   "cell_type": "code",
   "execution_count": null,
   "metadata": {
    "colab": {
     "base_uri": "https://localhost:8080/",
     "height": 279
    },
    "id": "5Fa17gNQ1zo2",
    "outputId": "b581a16f-badf-487f-cfa8-ca994b957480"
   },
   "outputs": [
    {
     "data": {
      "image/png": "[encoded data removed]",
      "text/plain": [
       "<Figure size 432x288 with 1 Axes>"
      ]
     },
     "metadata": {
      "needs_background": "light",
      "tags": []
     },
     "output_type": "display_data"
    }
   ],
   "source": [
    "lrr.visualize(data, fb, ['PercentTradesWBalance']);"
   ]
  },
  {
   "cell_type": "markdown",
   "metadata": {
    "id": "m9r63Efh1-8W"
   },
   "source": [
    "\n",
    "### **4. Number and type of accounts**\n",
    "\n",
    "The number of \"satisfactory\" accounts (\"trades\") has a significant positive effect on the predicted probability of good credit, with jumps at 12 and 17 accounts.\n"
   ]
  },
  {
   "cell_type": "code",
   "execution_count": null,
   "metadata": {
    "colab": {
     "base_uri": "https://localhost:8080/",
     "height": 279
    },
    "id": "ji0fDkXs175o",
    "outputId": "4c85bb05-b6f0-4375-b3c1-07ce0a5833b5"
   },
   "outputs": [
    {
     "data": {
      "image/png": "[encoded data removed]",
      "text/plain": [
       "<Figure size 432x288 with 1 Axes>"
      ]
     },
     "metadata": {
      "needs_background": "light",
      "tags": []
     },
     "output_type": "display_data"
    }
   ],
   "source": [
    "lrr.visualize(data, fb, ['NumSatisfactoryTrades']);"
   ]
  },
  {
   "cell_type": "markdown",
   "metadata": {
    "id": "zeJpLaEp2Heh"
   },
   "source": [
    "\n",
    "\n",
    "However, having more than 40% as installment debt accounts (e.g. car loans) is seen as a negative.\n"
   ]
  },
  {
   "cell_type": "code",
   "execution_count": null,
   "metadata": {
    "colab": {
     "base_uri": "https://localhost:8080/",
     "height": 279
    },
    "id": "z9r5BmaY2F-4",
    "outputId": "6948b3fc-effa-4fc3-fdca-2d5661a5948e"
   },
   "outputs": [
    {
     "data": {
      "image/png": "[encoded data removed]",
      "text/plain": [
       "<Figure size 432x288 with 1 Axes>"
      ]
     },
     "metadata": {
      "needs_background": "light",
      "tags": []
     },
     "output_type": "display_data"
    }
   ],
   "source": [
    "lrr.visualize(data, fb, ['PercentInstallTrades']);"
   ]
  },
  {
   "cell_type": "markdown",
   "metadata": {
    "id": "2oh-1ihD2LEM"
   },
   "source": [
    "### **5. Length of credit history**\n",
    "\n",
    "The 'AverageMInFile' plot shows that most of the benefit of having a longer average credit history accrues between average ages of 52 and 84 months (four to seven years).\n"
   ]
  },
  {
   "cell_type": "code",
   "execution_count": null,
   "metadata": {
    "colab": {
     "base_uri": "https://localhost:8080/",
     "height": 283
    },
    "id": "wfMq1P5C2JQ6",
    "outputId": "1a1362f5-3c14-47c9-8350-5b6aef608585"
   },
   "outputs": [
    {
     "data": {
      "image/png": "[encoded data removed]",
      "text/plain": [
       "<Figure size 432x288 with 1 Axes>"
      ]
     },
     "metadata": {
      "needs_background": "light",
      "tags": []
     },
     "output_type": "display_data"
    }
   ],
   "source": [
    "lrr.visualize(data, fb, ['AverageMInFile']);"
   ]
  },
  {
   "cell_type": "markdown",
   "metadata": {
    "id": "d1PPsVlO2UHU"
   },
   "source": [
    "\n",
    "\n",
    "Similar but smaller gains come when the age of the oldest account ('MSinceOldestTradeOpen') exceeds 122 and 146 months (10-12 years).\n"
   ]
  },
  {
   "cell_type": "code",
   "execution_count": null,
   "metadata": {
    "colab": {
     "base_uri": "https://localhost:8080/",
     "height": 279
    },
    "id": "_smLzbFW2SO2",
    "outputId": "05abf190-afa4-4b72-b436-cac016bd4d88"
   },
   "outputs": [
    {
     "data": {
      "image/png": "[encoded data removed]",
      "text/plain": [
       "<Figure size 432x288 with 1 Axes>"
      ]
     },
     "metadata": {
      "needs_background": "light",
      "tags": []
     },
     "output_type": "display_data"
    }
   ],
   "source": [
    "lrr.visualize(data, fb, ['MSinceOldestTradeOpen']);"
   ]
  },
  {
   "cell_type": "markdown",
   "metadata": {
    "id": "36datQzq2YXl"
   },
   "source": [
    "\n",
    "### **6. Delinquencies**\n",
    "\n",
    "The last set of plots looks at the effect of delinquencies. The first plot shows that much of the change due to the percentage of accounts that were never delinquent ('PercentTradesNeverDelq') occurs between 90% and 100%.\n"
   ]
  },
  {
   "cell_type": "code",
   "execution_count": null,
   "metadata": {
    "colab": {
     "base_uri": "https://localhost:8080/",
     "height": 279
    },
    "id": "nYO6bAuQ2WBu",
    "outputId": "f2756a80-4cff-4be7-ab91-412128254ffd"
   },
   "outputs": [
    {
     "data": {
      "image/png": "[encoded data removed]",
      "text/plain": [
       "<Figure size 432x288 with 1 Axes>"
      ]
     },
     "metadata": {
      "needs_background": "light",
      "tags": []
     },
     "output_type": "display_data"
    }
   ],
   "source": [
    "lrr.visualize(data, fb, ['PercentTradesNeverDelq']);"
   ]
  },
  {
   "cell_type": "markdown",
   "metadata": {
    "id": "agRDaD0J2fow"
   },
   "source": [
    "MaxDelq2PublicRecLast12M' measures the severity of the applicant's worst delinquency from the last 12 months of the public record. A value of 5 or below indicates that some delinquency has occurred, whether of unknown duration, 30/60/90/120 days delinquent, or a derogatory comment."
   ]
  },
  {
   "cell_type": "code",
   "execution_count": null,
   "metadata": {
    "colab": {
     "base_uri": "https://localhost:8080/",
     "height": 279
    },
    "id": "4vbJCmJa2eJk",
    "outputId": "5c6dae5b-cfc0-4b8a-a620-bab2647468a2"
   },
   "outputs": [
    {
     "data": {
      "image/png": "[encoded data removed]",
      "text/plain": [
       "<Figure size 432x288 with 1 Axes>"
      ]
     },
     "metadata": {
      "needs_background": "light",
      "tags": []
     },
     "output_type": "display_data"
    }
   ],
   "source": [
    "lrr.visualize(data, fb, ['MaxDelq2PublicRecLast12M']);"
   ]
  },
  {
   "cell_type": "markdown",
   "metadata": {
    "id": "ZGLej7Mf2lTl"
   },
   "source": [
    "According to the last 'MSinceMostRecentDelq' plot, the effect of the most recent delinquency wears off after 21 months.\n"
   ]
  },
  {
   "cell_type": "code",
   "execution_count": null,
   "metadata": {
    "colab": {
     "base_uri": "https://localhost:8080/",
     "height": 279
    },
    "id": "CI9KH9UU2hvq",
    "outputId": "6cfdffa3-0f44-4f11-a2f3-7d031eb0e9d5"
   },
   "outputs": [
    {
     "data": {
      "image/png": "[encoded data removed]",
      "text/plain": [
       "<Figure size 432x288 with 1 Axes>"
      ]
     },
     "metadata": {
      "needs_background": "light",
      "tags": []
     },
     "output_type": "display_data"
    }
   ],
   "source": [
    "lrr.visualize(data, fb, ['MSinceMostRecentDelq']);"
   ]
  },
  {
   "cell_type": "code",
   "execution_count": null,
   "metadata": {
    "id": "oxzBOaxC2j3p"
   },
   "outputs": [],
   "source": []
  }
 ],
 "metadata": {
  "colab": {
   "name": "AIX 360-Credit Loan Approval (Data Scientist Explaination).ipynb",
   "provenance": []
  },
  "kernelspec": {
   "display_name": "Python 3",
   "language": "python",
   "name": "python3"
  },
  "language_info": {
   "codemirror_mode": {
    "name": "ipython",
    "version": 3
   },
   "file_extension": ".py",
   "mimetype": "text/x-python",
   "name": "python",
   "nbconvert_exporter": "python",
   "pygments_lexer": "ipython3",
   "version": "3.8.8"
  }
 },
 "nbformat": 4,
 "nbformat_minor": 4
}
