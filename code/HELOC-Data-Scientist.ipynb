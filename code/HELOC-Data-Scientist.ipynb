{
 "cells": [
  {
   "cell_type": "markdown",
   "id": "cae6ac81-ff8b-4ed1-b26d-c8d1316ff491",
   "metadata": {},
   "source": [
    "# HELOC Data Scientist\n",
    "\n",
    "## Primary Objective\n",
    "Provide graphical and summary explanations of three types of directly interpretable (glassbox) data-inductive (Machine Learning) models for credit risk assessment.  The dataset under investigation is the FICO Home Equity Loan data (HELOC).  This was compiled from real-world financial data and was used in the FICO Explainable ML Models Challenge. \n",
    "\n",
    "The models classify new instances as `nondefault` or `default`.  The components of the model need to be accessible in order to provide interpretations of model operation and predictions.  \n",
    "\n",
    "There are four model types in the `interpretML` package.  The Decision Tree Classifier was not selected due to the potential for overfitting since the HELOC dataset contains 34 features with approximately 7,000 instances in the training set.\n",
    "\n",
    "The end goal is to create a dashboard directed towards the requirements of a Data Scientist / Model Developer.\n",
    "\n",
    "###### Contents\n",
    "1. [Feature Importance](#feature-importance)\n",
    "\n",
    "2. [Model Simplification](#model-simple)\n",
    "\n",
    "3. [Evaluation and Presentation](#eval-present)\n",
    "\n",
    "4. [Feature Selection](#select)\n",
    "---\n",
    "\n",
    "Set a seed for reproducibility, and import packages."
   ]
  },
  {
   "cell_type": "code",
   "execution_count": 1,
   "id": "95a80fdc-d7e3-487f-b0bb-d8e716ebdbbf",
   "metadata": {},
   "outputs": [],
   "source": [
    "import numpy as np\n",
    "import pandas as pd\n",
    "import os.path\n",
    "import urllib.request\n",
    "import pprint\n",
    "\n",
    "from pandas import read_csv\n",
    "from matplotlib import pyplot\n",
    "\n",
    "from sklearn.metrics import classification_report\n",
    "from sklearn.metrics import confusion_matrix\n",
    "from sklearn.metrics import accuracy_score\n",
    "\n",
    "from sklearn import datasets, model_selection, ensemble, metrics, pipeline, preprocessing\n",
    "\n",
    "from interpret.glassbox import ExplainableBoostingClassifier\n",
    "from interpret.glassbox import DecisionListClassifier\n",
    "from interpret.glassbox import LogisticRegression\n",
    "from interpret import show\n",
    "\n",
    "seed = 2022"
   ]
  },
  {
   "cell_type": "markdown",
   "id": "135cd692-ceeb-4440-9f92-cdaf836b9c9e",
   "metadata": {},
   "source": [
    "---\n",
    "\n",
    "## 1. Global Feature Importance <a name=\"feature-importance\"></a>\n",
    "Source data is the Home Equity Loan [HELOC](https://community.fico.com/s/explainable-machine-learning-challenge?tabset-158d9=3) data set (as also used in the FICO Explainability Challenge). \n",
    "\n",
    "1. Load the data set (and print its characteristics)  \n",
    "2. Train directly interpretable (glassbox) models on the data\n",
    "3. Identify Global Feature Importance"
   ]
  },
  {
   "cell_type": "code",
   "execution_count": 2,
   "id": "09c26ae4-7258-468d-85f7-ab52d709522c",
   "metadata": {},
   "outputs": [],
   "source": [
    "url = 'https://raw.githubusercontent.com/JJCoen/Interpretable-ML-Models/master/data/train_imp.csv'\n",
    "train = pd.read_csv(url)\n",
    "del train['Unnamed: 0']\n",
    "\n",
    "url2 = 'https://raw.githubusercontent.com/JJCoen/Interpretable-ML-Models/master/data/test_imp.csv'\n",
    "test = pd.read_csv(url2)\n",
    "del test['Unnamed: 0']"
   ]
  },
  {
   "cell_type": "code",
   "execution_count": 3,
   "id": "b691af12-c675-4854-af9c-619a9a7e73f7",
   "metadata": {},
   "outputs": [
    {
     "name": "stdout",
     "output_type": "stream",
     "text": [
      "(7403, 35)\n",
      "(2468, 35)\n"
     ]
    }
   ],
   "source": [
    "print( train.shape)\n",
    "print( test.shape)\n",
    "features = train.columns[1:]\n",
    "label = train.columns[0]"
   ]
  },
  {
   "cell_type": "markdown",
   "id": "86107b63-f886-49b3-836e-b91b07736204",
   "metadata": {},
   "source": [
    "Encode a positive classification (1) as being a default.  \n",
    "A negative classification (0) is a nondefault.  In $R$, this is the reference level"
   ]
  },
  {
   "cell_type": "code",
   "execution_count": 4,
   "id": "933c847c-c793-44c9-8d29-07f330ac67e2",
   "metadata": {},
   "outputs": [
    {
     "name": "stdout",
     "output_type": "stream",
     "text": [
      "(7403, 34)\n"
     ]
    },
    {
     "data": {
      "text/plain": [
       "array(['Bad', 'Good'], dtype=object)"
      ]
     },
     "execution_count": 4,
     "metadata": {},
     "output_type": "execute_result"
    }
   ],
   "source": [
    "X_train = train[features]\n",
    "y_train = train[label].apply(lambda x: 0 if x == \"Good\" else 1) #Turning response into 0 and 1\n",
    "print(X_train.shape)\n",
    "label_names = train[label].unique()\n",
    "label_names"
   ]
  },
  {
   "cell_type": "code",
   "execution_count": 5,
   "id": "90da3919-7fbe-466b-9c81-824926c98a2f",
   "metadata": {},
   "outputs": [
    {
     "name": "stdout",
     "output_type": "stream",
     "text": [
      "(2468, 34)\n",
      "0    1\n",
      "1    1\n",
      "2    0\n",
      "3    1\n",
      "4    1\n",
      "Name: RiskPerformance, dtype: int64\n"
     ]
    }
   ],
   "source": [
    "X_test = test[features]\n",
    "y_test = test[label].apply(lambda x: 0 if x == \"Good\" else 1) #Turning response into 0 and 1\n",
    "print(X_test.shape)\n",
    "print(y_test.head())"
   ]
  },
  {
   "cell_type": "code",
   "execution_count": 6,
   "id": "ecf9fe77-942d-4493-880e-c04a59eb98ed",
   "metadata": {},
   "outputs": [
    {
     "data": {
      "text/html": [
       "<div>\n",
       "<style scoped>\n",
       "    .dataframe tbody tr th:only-of-type {\n",
       "        vertical-align: middle;\n",
       "    }\n",
       "\n",
       "    .dataframe tbody tr th {\n",
       "        vertical-align: top;\n",
       "    }\n",
       "\n",
       "    .dataframe thead th {\n",
       "        text-align: right;\n",
       "    }\n",
       "</style>\n",
       "<table border=\"1\" class=\"dataframe\">\n",
       "  <thead>\n",
       "    <tr style=\"text-align: right;\">\n",
       "      <th></th>\n",
       "      <th>0</th>\n",
       "      <th>1</th>\n",
       "      <th>2</th>\n",
       "      <th>3</th>\n",
       "      <th>4</th>\n",
       "    </tr>\n",
       "  </thead>\n",
       "  <tbody>\n",
       "    <tr>\n",
       "      <th>ExternalRiskEstimate</th>\n",
       "      <td>70.000000</td>\n",
       "      <td>62.00</td>\n",
       "      <td>68.000</td>\n",
       "      <td>66.000000</td>\n",
       "      <td>74.00000</td>\n",
       "    </tr>\n",
       "    <tr>\n",
       "      <th>MSinceOldestTradeOpen</th>\n",
       "      <td>145.000000</td>\n",
       "      <td>254.00</td>\n",
       "      <td>222.000</td>\n",
       "      <td>95.000000</td>\n",
       "      <td>191.00000</td>\n",
       "    </tr>\n",
       "    <tr>\n",
       "      <th>MSinceMostRecentTradeOpen</th>\n",
       "      <td>1.000000</td>\n",
       "      <td>20.00</td>\n",
       "      <td>2.000</td>\n",
       "      <td>21.000000</td>\n",
       "      <td>4.00000</td>\n",
       "    </tr>\n",
       "    <tr>\n",
       "      <th>AverageMInFile</th>\n",
       "      <td>11.000000</td>\n",
       "      <td>69.00</td>\n",
       "      <td>93.000</td>\n",
       "      <td>64.000000</td>\n",
       "      <td>66.00000</td>\n",
       "    </tr>\n",
       "    <tr>\n",
       "      <th>NumSatisfactoryTrades</th>\n",
       "      <td>8.000000</td>\n",
       "      <td>11.00</td>\n",
       "      <td>32.000</td>\n",
       "      <td>18.000000</td>\n",
       "      <td>37.00000</td>\n",
       "    </tr>\n",
       "    <tr>\n",
       "      <th>NumTrades60Ever2DerogPubRec</th>\n",
       "      <td>0.000000</td>\n",
       "      <td>5.00</td>\n",
       "      <td>0.000</td>\n",
       "      <td>1.000000</td>\n",
       "      <td>0.00000</td>\n",
       "    </tr>\n",
       "    <tr>\n",
       "      <th>NumTrades90Ever2DerogPubRec</th>\n",
       "      <td>0.000000</td>\n",
       "      <td>4.00</td>\n",
       "      <td>0.000</td>\n",
       "      <td>1.000000</td>\n",
       "      <td>0.00000</td>\n",
       "    </tr>\n",
       "    <tr>\n",
       "      <th>PercentTradesNeverDelq</th>\n",
       "      <td>100.000000</td>\n",
       "      <td>69.00</td>\n",
       "      <td>97.000</td>\n",
       "      <td>100.000000</td>\n",
       "      <td>97.00000</td>\n",
       "    </tr>\n",
       "    <tr>\n",
       "      <th>MSinceMostRecentDelq</th>\n",
       "      <td>32.788333</td>\n",
       "      <td>24.00</td>\n",
       "      <td>16.000</td>\n",
       "      <td>33.646667</td>\n",
       "      <td>13.00000</td>\n",
       "    </tr>\n",
       "    <tr>\n",
       "      <th>MaxDelq2PublicRecLast12M</th>\n",
       "      <td>7.000000</td>\n",
       "      <td>6.00</td>\n",
       "      <td>6.000</td>\n",
       "      <td>6.000000</td>\n",
       "      <td>6.00000</td>\n",
       "    </tr>\n",
       "    <tr>\n",
       "      <th>MaxDelqEver</th>\n",
       "      <td>8.000000</td>\n",
       "      <td>2.00</td>\n",
       "      <td>6.000</td>\n",
       "      <td>8.000000</td>\n",
       "      <td>6.00000</td>\n",
       "    </tr>\n",
       "    <tr>\n",
       "      <th>NumTotalTrades</th>\n",
       "      <td>8.000000</td>\n",
       "      <td>21.00</td>\n",
       "      <td>37.000</td>\n",
       "      <td>18.000000</td>\n",
       "      <td>26.00000</td>\n",
       "    </tr>\n",
       "    <tr>\n",
       "      <th>NumTradesOpeninLast12M</th>\n",
       "      <td>4.000000</td>\n",
       "      <td>0.00</td>\n",
       "      <td>1.000</td>\n",
       "      <td>0.000000</td>\n",
       "      <td>1.00000</td>\n",
       "    </tr>\n",
       "    <tr>\n",
       "      <th>PercentInstallTrades</th>\n",
       "      <td>30.000000</td>\n",
       "      <td>44.00</td>\n",
       "      <td>35.000</td>\n",
       "      <td>22.000000</td>\n",
       "      <td>57.00000</td>\n",
       "    </tr>\n",
       "    <tr>\n",
       "      <th>MSinceMostRecentInqexcl7days</th>\n",
       "      <td>1.000000</td>\n",
       "      <td>4.01</td>\n",
       "      <td>0.000</td>\n",
       "      <td>0.000000</td>\n",
       "      <td>6.92805</td>\n",
       "    </tr>\n",
       "    <tr>\n",
       "      <th>NumInqLast6M</th>\n",
       "      <td>4.000000</td>\n",
       "      <td>0.00</td>\n",
       "      <td>2.000</td>\n",
       "      <td>0.000000</td>\n",
       "      <td>0.00000</td>\n",
       "    </tr>\n",
       "    <tr>\n",
       "      <th>NumInqLast6Mexcl7days</th>\n",
       "      <td>4.000000</td>\n",
       "      <td>0.00</td>\n",
       "      <td>2.000</td>\n",
       "      <td>0.000000</td>\n",
       "      <td>0.00000</td>\n",
       "    </tr>\n",
       "    <tr>\n",
       "      <th>NetFractionRevolvingBurden</th>\n",
       "      <td>28.000000</td>\n",
       "      <td>40.00</td>\n",
       "      <td>62.000</td>\n",
       "      <td>75.000000</td>\n",
       "      <td>33.00000</td>\n",
       "    </tr>\n",
       "    <tr>\n",
       "      <th>NetFractionInstallBurden</th>\n",
       "      <td>80.573333</td>\n",
       "      <td>44.00</td>\n",
       "      <td>64.765</td>\n",
       "      <td>53.000000</td>\n",
       "      <td>83.00000</td>\n",
       "    </tr>\n",
       "    <tr>\n",
       "      <th>NumRevolvingTradesWBalance</th>\n",
       "      <td>2.000000</td>\n",
       "      <td>5.00</td>\n",
       "      <td>5.000</td>\n",
       "      <td>7.000000</td>\n",
       "      <td>4.00000</td>\n",
       "    </tr>\n",
       "    <tr>\n",
       "      <th>NumInstallTradesWBalance</th>\n",
       "      <td>1.000000</td>\n",
       "      <td>2.00</td>\n",
       "      <td>1.000</td>\n",
       "      <td>2.000000</td>\n",
       "      <td>6.00000</td>\n",
       "    </tr>\n",
       "    <tr>\n",
       "      <th>NumBank2NatlTradesWHighUtilization</th>\n",
       "      <td>0.000000</td>\n",
       "      <td>2.00</td>\n",
       "      <td>2.000</td>\n",
       "      <td>4.000000</td>\n",
       "      <td>0.00000</td>\n",
       "    </tr>\n",
       "    <tr>\n",
       "      <th>PercentTradesWBalance</th>\n",
       "      <td>43.000000</td>\n",
       "      <td>100.00</td>\n",
       "      <td>60.000</td>\n",
       "      <td>100.000000</td>\n",
       "      <td>63.00000</td>\n",
       "    </tr>\n",
       "    <tr>\n",
       "      <th>No_report</th>\n",
       "      <td>0.000000</td>\n",
       "      <td>0.00</td>\n",
       "      <td>0.000</td>\n",
       "      <td>0.000000</td>\n",
       "      <td>0.00000</td>\n",
       "    </tr>\n",
       "    <tr>\n",
       "      <th>No_valid_MSinceOldestTradeOpen</th>\n",
       "      <td>0.000000</td>\n",
       "      <td>0.00</td>\n",
       "      <td>0.000</td>\n",
       "      <td>0.000000</td>\n",
       "      <td>0.00000</td>\n",
       "    </tr>\n",
       "    <tr>\n",
       "      <th>No_valid_MSinceMostRecentDelq</th>\n",
       "      <td>0.000000</td>\n",
       "      <td>0.00</td>\n",
       "      <td>0.000</td>\n",
       "      <td>0.000000</td>\n",
       "      <td>0.00000</td>\n",
       "    </tr>\n",
       "    <tr>\n",
       "      <th>No_valid_MSinceMostRecentInqexcl7days</th>\n",
       "      <td>0.000000</td>\n",
       "      <td>1.00</td>\n",
       "      <td>0.000</td>\n",
       "      <td>0.000000</td>\n",
       "      <td>0.00000</td>\n",
       "    </tr>\n",
       "    <tr>\n",
       "      <th>No_valid_NetFractionRevolvingBurden</th>\n",
       "      <td>0.000000</td>\n",
       "      <td>0.00</td>\n",
       "      <td>0.000</td>\n",
       "      <td>0.000000</td>\n",
       "      <td>0.00000</td>\n",
       "    </tr>\n",
       "    <tr>\n",
       "      <th>No_valid_NetFractionInstallBurden</th>\n",
       "      <td>1.000000</td>\n",
       "      <td>0.00</td>\n",
       "      <td>1.000</td>\n",
       "      <td>0.000000</td>\n",
       "      <td>0.00000</td>\n",
       "    </tr>\n",
       "    <tr>\n",
       "      <th>No_valid_NumRevolvingTradesWBalance</th>\n",
       "      <td>0.000000</td>\n",
       "      <td>0.00</td>\n",
       "      <td>0.000</td>\n",
       "      <td>0.000000</td>\n",
       "      <td>0.00000</td>\n",
       "    </tr>\n",
       "    <tr>\n",
       "      <th>No_valid_NumInstallTradesWBalance</th>\n",
       "      <td>0.000000</td>\n",
       "      <td>0.00</td>\n",
       "      <td>0.000</td>\n",
       "      <td>0.000000</td>\n",
       "      <td>0.00000</td>\n",
       "    </tr>\n",
       "    <tr>\n",
       "      <th>No_valid_NumBank2NatlTradesWHighUtilization</th>\n",
       "      <td>0.000000</td>\n",
       "      <td>0.00</td>\n",
       "      <td>0.000</td>\n",
       "      <td>0.000000</td>\n",
       "      <td>0.00000</td>\n",
       "    </tr>\n",
       "    <tr>\n",
       "      <th>No_MSinceMostRecentDelq</th>\n",
       "      <td>1.000000</td>\n",
       "      <td>0.00</td>\n",
       "      <td>0.000</td>\n",
       "      <td>1.000000</td>\n",
       "      <td>0.00000</td>\n",
       "    </tr>\n",
       "    <tr>\n",
       "      <th>No_MSinceMostRecentInqexcl7days</th>\n",
       "      <td>0.000000</td>\n",
       "      <td>0.00</td>\n",
       "      <td>0.000</td>\n",
       "      <td>0.000000</td>\n",
       "      <td>1.00000</td>\n",
       "    </tr>\n",
       "  </tbody>\n",
       "</table>\n",
       "</div>"
      ],
      "text/plain": [
       "                                                      0       1        2  \\\n",
       "ExternalRiskEstimate                          70.000000   62.00   68.000   \n",
       "MSinceOldestTradeOpen                        145.000000  254.00  222.000   \n",
       "MSinceMostRecentTradeOpen                      1.000000   20.00    2.000   \n",
       "AverageMInFile                                11.000000   69.00   93.000   \n",
       "NumSatisfactoryTrades                          8.000000   11.00   32.000   \n",
       "NumTrades60Ever2DerogPubRec                    0.000000    5.00    0.000   \n",
       "NumTrades90Ever2DerogPubRec                    0.000000    4.00    0.000   \n",
       "PercentTradesNeverDelq                       100.000000   69.00   97.000   \n",
       "MSinceMostRecentDelq                          32.788333   24.00   16.000   \n",
       "MaxDelq2PublicRecLast12M                       7.000000    6.00    6.000   \n",
       "MaxDelqEver                                    8.000000    2.00    6.000   \n",
       "NumTotalTrades                                 8.000000   21.00   37.000   \n",
       "NumTradesOpeninLast12M                         4.000000    0.00    1.000   \n",
       "PercentInstallTrades                          30.000000   44.00   35.000   \n",
       "MSinceMostRecentInqexcl7days                   1.000000    4.01    0.000   \n",
       "NumInqLast6M                                   4.000000    0.00    2.000   \n",
       "NumInqLast6Mexcl7days                          4.000000    0.00    2.000   \n",
       "NetFractionRevolvingBurden                    28.000000   40.00   62.000   \n",
       "NetFractionInstallBurden                      80.573333   44.00   64.765   \n",
       "NumRevolvingTradesWBalance                     2.000000    5.00    5.000   \n",
       "NumInstallTradesWBalance                       1.000000    2.00    1.000   \n",
       "NumBank2NatlTradesWHighUtilization             0.000000    2.00    2.000   \n",
       "PercentTradesWBalance                         43.000000  100.00   60.000   \n",
       "No_report                                      0.000000    0.00    0.000   \n",
       "No_valid_MSinceOldestTradeOpen                 0.000000    0.00    0.000   \n",
       "No_valid_MSinceMostRecentDelq                  0.000000    0.00    0.000   \n",
       "No_valid_MSinceMostRecentInqexcl7days          0.000000    1.00    0.000   \n",
       "No_valid_NetFractionRevolvingBurden            0.000000    0.00    0.000   \n",
       "No_valid_NetFractionInstallBurden              1.000000    0.00    1.000   \n",
       "No_valid_NumRevolvingTradesWBalance            0.000000    0.00    0.000   \n",
       "No_valid_NumInstallTradesWBalance              0.000000    0.00    0.000   \n",
       "No_valid_NumBank2NatlTradesWHighUtilization    0.000000    0.00    0.000   \n",
       "No_MSinceMostRecentDelq                        1.000000    0.00    0.000   \n",
       "No_MSinceMostRecentInqexcl7days                0.000000    0.00    0.000   \n",
       "\n",
       "                                                      3          4  \n",
       "ExternalRiskEstimate                          66.000000   74.00000  \n",
       "MSinceOldestTradeOpen                         95.000000  191.00000  \n",
       "MSinceMostRecentTradeOpen                     21.000000    4.00000  \n",
       "AverageMInFile                                64.000000   66.00000  \n",
       "NumSatisfactoryTrades                         18.000000   37.00000  \n",
       "NumTrades60Ever2DerogPubRec                    1.000000    0.00000  \n",
       "NumTrades90Ever2DerogPubRec                    1.000000    0.00000  \n",
       "PercentTradesNeverDelq                       100.000000   97.00000  \n",
       "MSinceMostRecentDelq                          33.646667   13.00000  \n",
       "MaxDelq2PublicRecLast12M                       6.000000    6.00000  \n",
       "MaxDelqEver                                    8.000000    6.00000  \n",
       "NumTotalTrades                                18.000000   26.00000  \n",
       "NumTradesOpeninLast12M                         0.000000    1.00000  \n",
       "PercentInstallTrades                          22.000000   57.00000  \n",
       "MSinceMostRecentInqexcl7days                   0.000000    6.92805  \n",
       "NumInqLast6M                                   0.000000    0.00000  \n",
       "NumInqLast6Mexcl7days                          0.000000    0.00000  \n",
       "NetFractionRevolvingBurden                    75.000000   33.00000  \n",
       "NetFractionInstallBurden                      53.000000   83.00000  \n",
       "NumRevolvingTradesWBalance                     7.000000    4.00000  \n",
       "NumInstallTradesWBalance                       2.000000    6.00000  \n",
       "NumBank2NatlTradesWHighUtilization             4.000000    0.00000  \n",
       "PercentTradesWBalance                        100.000000   63.00000  \n",
       "No_report                                      0.000000    0.00000  \n",
       "No_valid_MSinceOldestTradeOpen                 0.000000    0.00000  \n",
       "No_valid_MSinceMostRecentDelq                  0.000000    0.00000  \n",
       "No_valid_MSinceMostRecentInqexcl7days          0.000000    0.00000  \n",
       "No_valid_NetFractionRevolvingBurden            0.000000    0.00000  \n",
       "No_valid_NetFractionInstallBurden              0.000000    0.00000  \n",
       "No_valid_NumRevolvingTradesWBalance            0.000000    0.00000  \n",
       "No_valid_NumInstallTradesWBalance              0.000000    0.00000  \n",
       "No_valid_NumBank2NatlTradesWHighUtilization    0.000000    0.00000  \n",
       "No_MSinceMostRecentDelq                        1.000000    0.00000  \n",
       "No_MSinceMostRecentInqexcl7days                0.000000    1.00000  "
      ]
     },
     "execution_count": 6,
     "metadata": {},
     "output_type": "execute_result"
    }
   ],
   "source": [
    "X_train.head().transpose()"
   ]
  },
  {
   "cell_type": "code",
   "execution_count": 7,
   "id": "68917f88-d3f8-4705-b4d6-95f4917387c8",
   "metadata": {},
   "outputs": [],
   "source": [
    "from interpret import show\n",
    "from interpret.data import ClassHistogram\n",
    "\n",
    "hist = ClassHistogram().explain_data(X_train, y_train, name = 'Train Data')"
   ]
  },
  {
   "cell_type": "markdown",
   "id": "6ab61b19-da6e-4b1a-aa26-d3ac5b45ff53",
   "metadata": {},
   "source": [
    "#### Train Models\n",
    "Cohort models can be on the complete training set, test set, or a group of applicants that a Regulator may want to inspect."
   ]
  },
  {
   "cell_type": "code",
   "execution_count": 8,
   "id": "605bade3-b9a8-4ae6-9054-d0df1f40e73a",
   "metadata": {},
   "outputs": [
    {
     "data": {
      "text/plain": [
       "<interpret.glassbox.linear.LogisticRegression at 0x2607e778880>"
      ]
     },
     "execution_count": 8,
     "metadata": {},
     "output_type": "execute_result"
    }
   ],
   "source": [
    "ebm = ExplainableBoostingClassifier(random_state=seed, n_jobs=-1)\n",
    "ebm.fit(X_train, y_train)   #Works on dataframes and numpy arrays\n",
    "\n",
    "lr = LogisticRegression(random_state=seed, feature_names=features, penalty='l1', solver='liblinear')\n",
    "lr.fit(X_train, y_train)"
   ]
  },
  {
   "cell_type": "markdown",
   "id": "d0496377-cbb7-4369-8fd6-28340bdb0e3b",
   "metadata": {},
   "source": [
    "#### Cohort-wide Explanations: What the model learned overall\n",
    "**Explainable Boosting Machine**"
   ]
  },
  {
   "cell_type": "code",
   "execution_count": 9,
   "id": "1eca6f81-62d4-4354-83d6-dec36eec1122",
   "metadata": {},
   "outputs": [
    {
     "name": "stderr",
     "output_type": "stream",
     "text": [
      "C:\\Users\\jimco\\anaconda3\\lib\\site-packages\\interpret\\visual\\udash.py:5: UserWarning: \n",
      "The dash_html_components package is deprecated. Please replace\n",
      "`import dash_html_components as html` with `from dash import html`\n",
      "  import dash_html_components as html\n",
      "C:\\Users\\jimco\\anaconda3\\lib\\site-packages\\interpret\\visual\\udash.py:6: UserWarning: \n",
      "The dash_core_components package is deprecated. Please replace\n",
      "`import dash_core_components as dcc` with `from dash import dcc`\n",
      "  import dash_core_components as dcc\n",
      "C:\\Users\\jimco\\anaconda3\\lib\\site-packages\\interpret\\visual\\udash.py:7: UserWarning: \n",
      "The dash_table package is deprecated. Please replace\n",
      "`import dash_table` with `from dash import dash_table`\n",
      "\n",
      "Also, if you're using any of the table format helpers (e.g. Group), replace \n",
      "`from dash_table.Format import Group` with \n",
      "`from dash.dash_table.Format import Group`\n",
      "  import dash_table as dt\n"
     ]
    },
    {
     "data": {
      "text/html": [
       "<!-- http://127.0.0.1:7001/2612967364544/ -->\n",
       "<iframe src=\"http://127.0.0.1:7001/2612967364544/\" width=100% height=800 frameBorder=\"0\"></iframe>"
      ]
     },
     "metadata": {},
     "output_type": "display_data"
    }
   ],
   "source": [
    "ebm_global = ebm.explain_global(name='EBM-Loan')\n",
    "#show(ebm_global)\n",
    "show(ebm_global, key = 1)"
   ]
  },
  {
   "cell_type": "markdown",
   "id": "78b83525-3c6d-481d-91bd-e7d40cc85e97",
   "metadata": {},
   "source": [
    "#### Overall Importance\n",
    "The EBM measures feature importance in terms of mean absolute score.  \n",
    "\n",
    "In the Generalised Additive Model, the response variable, $Y$, is given by the addition of smooth functions acting on each predictor variable:  \n",
    "$$\n",
    "g(E[Y]) = \\beta_0 + f_1(x_1) + f_2(x_2) + \\quad . . . \n",
    "$$\n",
    "\n",
    "$Y$ takes on values of 0 or 1 so $E[Y]$ is a binomial and the link function, $g$, is the logit or the $\\text{log(Odds)}$. \n",
    "\n",
    "For a single instance, the function $f_i$ acts on the feature value ($x_i$).  This contributes to the $\\text{log(Odds)}$ for that instance.  The mean absolute score for a feature is the average of the contributions over all instances.  In addition, this value is weighted by the density in the training set.  So, if 90% of the instances had a classification of \"0\", then these instances have a weighting of 0.9.  The other instances with a \"1\" classification have a weighting of 0.1.  This is to prevent extreme values from having undue influence.\n"
   ]
  },
  {
   "cell_type": "markdown",
   "id": "75a84abf-4a86-4cb0-a870-994dfec18804",
   "metadata": {},
   "source": [
    "**Logistic Regression**"
   ]
  },
  {
   "cell_type": "code",
   "execution_count": 10,
   "id": "53394658-97bb-453e-b0e0-a307c8b3347c",
   "metadata": {},
   "outputs": [
    {
     "data": {
      "text/html": [
       "<!-- http://127.0.0.1:7001/2613483678064/ -->\n",
       "<iframe src=\"http://127.0.0.1:7001/2613483678064/\" width=100% height=800 frameBorder=\"0\"></iframe>"
      ]
     },
     "metadata": {},
     "output_type": "display_data"
    }
   ],
   "source": [
    "lr_global = lr.explain_global(name='LR-Loan')\n",
    "show(lr_global)"
   ]
  },
  {
   "cell_type": "markdown",
   "id": "f44b7ede-3da8-4854-9a27-7d6304861a45",
   "metadata": {},
   "source": [
    "A high positive intercept dominates over the coefficient values.  It is possible to move the cursor over the plot so as to select the range of the coefficients"
   ]
  },
  {
   "cell_type": "markdown",
   "id": "3ebc32af-a997-4117-a350-4373004bcff9",
   "metadata": {},
   "source": [
    "#### Case-specific Feature Importance\n",
    "\n",
    "Select specific instances by selecting from the Component menu"
   ]
  },
  {
   "cell_type": "code",
   "execution_count": 11,
   "id": "091a0f13-3b76-4237-84c5-6e21016a8ed9",
   "metadata": {},
   "outputs": [
    {
     "data": {
      "text/html": [
       "<!-- http://127.0.0.1:7001/2613483933504/ -->\n",
       "<iframe src=\"http://127.0.0.1:7001/2613483933504/\" width=100% height=800 frameBorder=\"0\"></iframe>"
      ]
     },
     "metadata": {},
     "output_type": "display_data"
    }
   ],
   "source": [
    "ebm_local = ebm.explain_local(X_test[:5], y_test[:5])\n",
    "show(ebm_local)"
   ]
  },
  {
   "cell_type": "code",
   "execution_count": 12,
   "id": "34b1b7ee-2e65-4b4e-ab68-3c3be338fd17",
   "metadata": {},
   "outputs": [
    {
     "data": {
      "text/html": [
       "<!-- http://127.0.0.1:7001/2613483967968/ -->\n",
       "<iframe src=\"http://127.0.0.1:7001/2613483967968/\" width=100% height=800 frameBorder=\"0\"></iframe>"
      ]
     },
     "metadata": {},
     "output_type": "display_data"
    }
   ],
   "source": [
    "lr_local = lr.explain_local(X_test[:5], y_test[:5])\n",
    "show(lr_local)"
   ]
  },
  {
   "cell_type": "markdown",
   "id": "cdcc2883-258c-40f0-b938-4080f5d7f951",
   "metadata": {},
   "source": [
    "---\n",
    "\n",
    "## Model Simplification <a name=\"model-simple\"></a>\n",
    "The `DecisionListClassifier` gives a set of logical rules for making a positive prediction.  They are ranked according to precision:\n",
    "\n",
    "> Precision is the ratio between the True Positives and   \n",
    "> the predicted positives. \n",
    " \n",
    "$$ \n",
    "\\begin{aligned}\n",
    "\\text{Precision} &= \\frac{TP}{\\text{predicted positive}} \\\\\n",
    "&= \\frac{TP}{TP + FP}\n",
    "\\end{aligned}\n",
    "$$\n",
    "\n",
    "`Precision` gives a measure of the instances that are relevant. It is used when it is necessary to minimise the number of false positives.  In credit risk, this means reducing the number of applicants predicted as `default` when they are more likely to repay (`nondefault`).\n",
    "\n",
    "A secondary measure is `Recall`.  \n",
    "\n",
    "> Recall is the ratio of the true positives to all the condition positives\n",
    "\n",
    "Recall gives a measure of the model correctly identifying True Positives. It gives the proportion of instances that the model identified correctly.  It is the ratio of the true positives to all the condition positives.  \n",
    "Mathematically:  \n",
    "$$ Recall = \\frac{TP}{TP + FN}$$\n",
    "\n",
    "For a binary classifier, this is the __Sensitivity__ or True Positive Rate. This is an important metric.  \n",
    "\n",
    "In situations where it is critical that a class is identified correctly, as in medicine, the classifier needs to have high `recall`. \n",
    "\n",
    "`Precision` aims to minimise false positives.  If we need to avoid classifying patients as _covid_ positive when they disease-free,  we should aim for high precision.  A high Precision value is a way to ensure that resources go to those patients that need them and not to the _false positives_. \n",
    "\n",
    "Ideally, the model should have high precision and high recall values.  However, often it is not possible to achieve both goals at the same time.  Rules are ranked according to precision."
   ]
  },
  {
   "cell_type": "code",
   "execution_count": 13,
   "id": "48063b12-f8f1-4661-80f3-1fdcafb48a4c",
   "metadata": {},
   "outputs": [
    {
     "name": "stderr",
     "output_type": "stream",
     "text": [
      "C:\\Users\\jimco\\anaconda3\\lib\\site-packages\\sklearn\\externals\\six.py:28: FutureWarning:\n",
      "\n",
      "The module is deprecated in version 0.21 and will be removed in version 0.23 since we've dropped support for Python 2.7. Please rely on the official version of six (https://pypi.org/project/six/).\n",
      "\n"
     ]
    },
    {
     "data": {
      "text/html": [
       "<!-- http://127.0.0.1:7001/2612028229760/ -->\n",
       "<iframe src=\"http://127.0.0.1:7001/2612028229760/\" width=100% height=800 frameBorder=\"0\"></iframe>"
      ]
     },
     "metadata": {},
     "output_type": "display_data"
    }
   ],
   "source": [
    "seed = 2022\n",
    "dl = DecisionListClassifier(random_state=seed)\n",
    "dl.fit(X_train, y_train)\n",
    "\n",
    "dl_global = dl.explain_global(name='DL-Loan')\n",
    "\n",
    "dl_local = dl.explain_local(X_test[:5], y_test[:5])\n",
    "\n",
    "show(dl_global)"
   ]
  },
  {
   "cell_type": "markdown",
   "id": "524072bb-5163-4aa3-99b0-6b7b21638871",
   "metadata": {},
   "source": [
    "---\n",
    "\n",
    "## Evaluation and Presentation <a name=\"eval-present\"></a>\n",
    "* Compute the F1 score for the EBM model and   \n",
    "* Calculate AUC scores for three glassbox models and present as a dashboard"
   ]
  },
  {
   "cell_type": "code",
   "execution_count": 14,
   "id": "98569322-1495-4a57-a88d-c83e2112d018",
   "metadata": {},
   "outputs": [
    {
     "name": "stdout",
     "output_type": "stream",
     "text": [
      "Classifier performance (F1): 0.7398944621245921\n"
     ]
    }
   ],
   "source": [
    "from interpret.perf import ROC\n",
    "# Print out the classifier performance (F1-score)\n",
    "print('Classifier performance (F1):', metrics.f1_score(y_test, ebm.predict(X_test), average='weighted'))\n",
    "f1_34 = metrics.f1_score(y_test, ebm.predict(X_test), average='weighted')\n",
    "\n",
    "ebm_perf = ROC(ebm.predict_proba).explain_perf(X_test, y_test, name='EBM-Perf')\n",
    "\n",
    "lr_perf = ROC(lr.predict_proba).explain_perf(X_test, y_test, name='LR-Perf')\n",
    "\n",
    "dl_perf = ROC(dl.predict_proba).explain_perf(X_test, y_test, name='DL-Perf')\n"
   ]
  },
  {
   "cell_type": "code",
   "execution_count": 15,
   "id": "abdfd254-ca28-4342-8850-e06bdba810c8",
   "metadata": {},
   "outputs": [
    {
     "name": "stdout",
     "output_type": "stream",
     "text": [
      "Train Accuracy : 0.76\n",
      "Test Accuracy : 0.74\n"
     ]
    }
   ],
   "source": [
    "print(\"Train Accuracy : %.2f\" %ebm.score(X_train, y_train) )\n",
    "print(\"Test Accuracy : %.2f\" %ebm.score(X_test, y_test) )\n",
    "acc_34 = ebm.score(X_test, y_test)"
   ]
  },
  {
   "cell_type": "markdown",
   "id": "c92a5c0e-8af5-40d2-b0be-8dd6d9c982dc",
   "metadata": {},
   "source": [
    "### Dashboard"
   ]
  },
  {
   "cell_type": "code",
   "execution_count": 16,
   "id": "f95ef73f-0256-42e8-a5b0-91d871269cf7",
   "metadata": {},
   "outputs": [
    {
     "data": {
      "text/html": [
       "<!-- http://127.0.0.1:7001/2612030759552/ -->\n",
       "<a href=\"http://127.0.0.1:7001/2612030759552/\" target=\"_new\">Open in new window</a><iframe src=\"http://127.0.0.1:7001/2612030759552/\" width=100% height=800 frameBorder=\"0\"></iframe>"
      ]
     },
     "metadata": {},
     "output_type": "display_data"
    }
   ],
   "source": [
    "show([hist, lr_global, lr_perf, dl_global, dl_perf, ebm_global, ebm_perf], share_tables=True)"
   ]
  },
  {
   "cell_type": "markdown",
   "id": "171feea9-5b42-4a93-876e-6d194a1648fd",
   "metadata": {},
   "source": [
    "---\n",
    "\n",
    "## Feature Selection <a name=\"select\"></a>\n",
    "\n",
    "An underlying objective of this research study is to place greater emphasise on explaining ML models to the service user / loan applicant.  To this end, when an application is denyed, the service user wants to know what measures they might undertake in order to obtain approval.  The Constastive Explanations package can identify such correcitve measures.  However, it is capable of working with only ten or fewer features.  In order to facilitate the work of the Loan Officer in providing explanations to the Service User, it is necessary to restrict the EBM model to the ten features with greatest global importance."
   ]
  },
  {
   "cell_type": "code",
   "execution_count": 17,
   "id": "279f4ade-6440-4154-b4e2-aff01375e2e8",
   "metadata": {},
   "outputs": [
    {
     "data": {
      "text/plain": [
       "Index(['type', 'names', 'scores'], dtype='object')"
      ]
     },
     "execution_count": 17,
     "metadata": {},
     "output_type": "execute_result"
    }
   ],
   "source": [
    "# Convert feature importance dict to a dataframe\n",
    "feat_importance = pd.DataFrame( ebm_global.data() )\n",
    "feat_importance.columns"
   ]
  },
  {
   "cell_type": "code",
   "execution_count": 18,
   "id": "35f7d949-67af-44c2-ab2d-068230908e4c",
   "metadata": {},
   "outputs": [],
   "source": [
    "# Sort by scores\n",
    "feat_scores = feat_importance.sort_values(['scores'], ascending = False).head(10) \n",
    "feat_select = feat_scores['names']"
   ]
  },
  {
   "cell_type": "markdown",
   "id": "4af98170-afdf-4b51-82dc-5a60b66d2002",
   "metadata": {},
   "source": [
    "The `top-10.csv` file has already been created.  Un-comment the cell below if you wish to replicate."
   ]
  },
  {
   "cell_type": "code",
   "execution_count": 19,
   "id": "b06ea210-6e93-48b2-b9c2-fb647ae78dcf",
   "metadata": {
    "tags": []
   },
   "outputs": [],
   "source": [
    "#from pathlib import Path  \n",
    "#filepath = Path('../data/top-10.csv')\n",
    "#feat_select.to_csv(filepath)"
   ]
  },
  {
   "cell_type": "code",
   "execution_count": 19,
   "id": "7c68debd-8188-4acc-bb52-65f681ba9e95",
   "metadata": {},
   "outputs": [],
   "source": [
    "# Recalibrate training and test sets\n",
    "X_train = train[feat_select]\n",
    "X_test = test[feat_select]"
   ]
  },
  {
   "cell_type": "code",
   "execution_count": 20,
   "id": "f87527dc-1466-4fb0-b9df-a689aedb00a9",
   "metadata": {},
   "outputs": [
    {
     "name": "stdout",
     "output_type": "stream",
     "text": [
      "(7403, 10)\n",
      "(2468, 10)\n"
     ]
    }
   ],
   "source": [
    "print(X_train.shape)\n",
    "print(X_test.shape)"
   ]
  },
  {
   "cell_type": "code",
   "execution_count": 21,
   "id": "00d95fde-b87b-4e84-b7df-bacd4ee914fa",
   "metadata": {},
   "outputs": [
    {
     "data": {
      "text/html": [
       "<!-- http://127.0.0.1:7001/2612028122592/ -->\n",
       "<iframe src=\"http://127.0.0.1:7001/2612028122592/\" width=100% height=800 frameBorder=\"0\"></iframe>"
      ]
     },
     "metadata": {},
     "output_type": "display_data"
    }
   ],
   "source": [
    "# Train EBM on reduced training set\n",
    "ebm_r = ExplainableBoostingClassifier(random_state=seed, n_jobs=-1)\n",
    "ebm_r.fit(X_train, y_train)\n",
    "ebm_select = ebm_r.explain_global(name='EBM-Loan-select')\n",
    "show(ebm_select)"
   ]
  },
  {
   "cell_type": "markdown",
   "id": "f46f74b4-e726-48ae-a181-b9d413da2af8",
   "metadata": {},
   "source": [
    "It is interesting that when the number of features is reduced to the top ten, then the EBM Generalised Additive Model takes pair-wise feature interactions into account."
   ]
  },
  {
   "cell_type": "code",
   "execution_count": 22,
   "id": "1486b264-1b96-4ce7-804f-2ed190cc5733",
   "metadata": {},
   "outputs": [
    {
     "name": "stdout",
     "output_type": "stream",
     "text": [
      "Classifier performance (F1): 0.736\n"
     ]
    }
   ],
   "source": [
    "# Print out the classifier performance (F1-score)\n",
    "print('Classifier performance (F1): %.3f' %metrics.f1_score(y_test, ebm_r.predict(X_test), average='weighted'))\n",
    "f1_10 = metrics.f1_score(y_test, ebm_r.predict(X_test), average='weighted')\n",
    "acc_10 =  ebm_r.score(X_test, y_test)"
   ]
  },
  {
   "cell_type": "code",
   "execution_count": 23,
   "id": "9c8d293a-db97-488f-99fd-e2a5eda2a897",
   "metadata": {},
   "outputs": [
    {
     "data": {
      "text/html": [
       "<div>\n",
       "<style scoped>\n",
       "    .dataframe tbody tr th:only-of-type {\n",
       "        vertical-align: middle;\n",
       "    }\n",
       "\n",
       "    .dataframe tbody tr th {\n",
       "        vertical-align: top;\n",
       "    }\n",
       "\n",
       "    .dataframe thead th {\n",
       "        text-align: right;\n",
       "    }\n",
       "</style>\n",
       "<table border=\"1\" class=\"dataframe\">\n",
       "  <thead>\n",
       "    <tr style=\"text-align: right;\">\n",
       "      <th></th>\n",
       "      <th>EBM model</th>\n",
       "      <th>f1</th>\n",
       "      <th>acc</th>\n",
       "    </tr>\n",
       "  </thead>\n",
       "  <tbody>\n",
       "    <tr>\n",
       "      <th>0</th>\n",
       "      <td>full</td>\n",
       "      <td>0.739894</td>\n",
       "      <td>0.739870</td>\n",
       "    </tr>\n",
       "    <tr>\n",
       "      <th>1</th>\n",
       "      <td>reduced</td>\n",
       "      <td>0.735843</td>\n",
       "      <td>0.735818</td>\n",
       "    </tr>\n",
       "  </tbody>\n",
       "</table>\n",
       "</div>"
      ],
      "text/plain": [
       "  EBM model        f1       acc\n",
       "0      full  0.739894  0.739870\n",
       "1   reduced  0.735843  0.735818"
      ]
     },
     "execution_count": 23,
     "metadata": {},
     "output_type": "execute_result"
    }
   ],
   "source": [
    "eval = pd.DataFrame()\n",
    "eval['EBM model'] = ['full', 'reduced']\n",
    "eval['f1'] = [f1_34, f1_10]\n",
    "eval['acc'] = [acc_34, acc_10]\n",
    "eval"
   ]
  },
  {
   "cell_type": "markdown",
   "id": "565e61c7-a289-4b5a-a948-7d0ca9cea987",
   "metadata": {},
   "source": [
    "Comparing the Area under the Curve for the full and reduced EBM models:"
   ]
  },
  {
   "cell_type": "code",
   "execution_count": 24,
   "id": "25c3cdcc-8db5-4ea1-9338-3e3076461a67",
   "metadata": {},
   "outputs": [
    {
     "data": {
      "text/html": [
       "<!-- http://127.0.0.1:7001/2613460591232/ -->\n",
       "<a href=\"http://127.0.0.1:7001/2613460591232/\" target=\"_new\">Open in new window</a><iframe src=\"http://127.0.0.1:7001/2613460591232/\" width=100% height=800 frameBorder=\"0\"></iframe>"
      ]
     },
     "metadata": {},
     "output_type": "display_data"
    }
   ],
   "source": [
    "ebm_r_perf = ROC(ebm_r.predict_proba).explain_perf(X_test, y_test, name='EBM-R-Perf')\n",
    "show([ebm_perf, ebm_r_perf])"
   ]
  },
  {
   "cell_type": "markdown",
   "id": "a72dca23-2b48-40c8-94f4-f52ab12ec7f4",
   "metadata": {},
   "source": [
    "It is extraordinary that restricting the EBM model from 34 to 10 features does not have any significant effect on model performance."
   ]
  },
  {
   "cell_type": "code",
   "execution_count": 25,
   "id": "6fe34581-94ae-4a8d-946e-ddcd11ac4f45",
   "metadata": {},
   "outputs": [
    {
     "data": {
      "text/html": [
       "<!-- http://127.0.0.1:7001/2613483930912/ -->\n",
       "<iframe src=\"http://127.0.0.1:7001/2613483930912/\" width=100% height=800 frameBorder=\"0\"></iframe>"
      ]
     },
     "metadata": {},
     "output_type": "display_data"
    }
   ],
   "source": [
    "ebm_r_local = ebm_r.explain_local(X_test[:5], y_test[:5])\n",
    "show(ebm_r_local)"
   ]
  }
 ],
 "metadata": {
  "kernelspec": {
   "display_name": "Python 3",
   "language": "python",
   "name": "python3"
  },
  "language_info": {
   "codemirror_mode": {
    "name": "ipython",
    "version": 3
   },
   "file_extension": ".py",
   "mimetype": "text/x-python",
   "name": "python",
   "nbconvert_exporter": "python",
   "pygments_lexer": "ipython3",
   "version": "3.8.8"
  }
 },
 "nbformat": 4,
 "nbformat_minor": 5
}
